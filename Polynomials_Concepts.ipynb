{
  "metadata": {
    "kernelspec": {
      "name": "python",
      "display_name": "Python (Pyodide)",
      "language": "python"
    },
    "language_info": {
      "codemirror_mode": {
        "name": "python",
        "version": 3
      },
      "file_extension": ".py",
      "mimetype": "text/x-python",
      "name": "python",
      "nbconvert_exporter": "python",
      "pygments_lexer": "ipython3",
      "version": "3.8"
    }
  },
  "nbformat_minor": 5,
  "nbformat": 4,
  "cells": [
    {
      "id": "0e09b962-47a1-43e9-a862-ba66e461e0db",
      "cell_type": "markdown",
      "source": "### Algebra with Python: Polynomials Concepts\nIntroduction\nPolynomials are algebraic expressions with one or more terms involving variables with whole-number exponents. In Python, we can work with polynomials using libraries like **numpy** and **sympy**.\n\nWhat You'll Learn:\n* Factoring polynomials\n* Polynomial division\n* Solving polynomial equations",
      "metadata": {}
    },
    {
      "id": "f1286220-3ba2-486c-9d42-e4a2f38dc3be",
      "cell_type": "markdown",
      "source": "## Factoring Polynomials\n\nFactoring polynomials involves breaking them into simpler expressions. For example:\n\n$x^2 - 5x + 6 = (x - 2)(x - 3)$\n",
      "metadata": {}
    },
    {
      "id": "b256a80a-3b9a-47e9-846d-0f000d08c233",
      "cell_type": "code",
      "source": "from sympy import symbols, factor\n\nx = symbols('x')\nexpr = x**2 - 5*x + 6\nfactored_expr = factor(expr)\n\nprint(factored_expr)  # Output: (x - 2)*(x - 3)\n",
      "metadata": {
        "trusted": true
      },
      "outputs": [
        {
          "name": "stdout",
          "output_type": "stream",
          "text": "(x - 3)*(x - 2)\n"
        }
      ],
      "execution_count": 1
    },
    {
      "id": "0c23f34d-8f80-420d-919f-5e11c8c7b2f7",
      "cell_type": "markdown",
      "source": "# Polynomial Division\nPolynomial division helps simplify expressions or solve equations. We use Python's **numpy** for dividing polynomials.",
      "metadata": {}
    },
    {
      "id": "e1e21661-9656-4aed-89da-55f651fb3fb2",
      "cell_type": "code",
      "source": "import numpy as np\n\n# Define polynomials (numerator & denominator)\nnumerator = np.poly1d([1, -3, -6, 8])  # x^3 - 3x^2 - 6x + 8\ndenominator = np.poly1d([1, -2])  # x - 2\n\nquotient, remainder = np.polydiv(numerator, denominator)\n\nprint(\"Quotient:\", quotient)   # Output: x^2 - x - 4\nprint(\"Remainder:\", remainder) # Output: 0\n",
      "metadata": {
        "trusted": true
      },
      "outputs": [
        {
          "name": "stdout",
          "output_type": "stream",
          "text": "Quotient:    2\n1 x - 1 x - 8\nRemainder:  \n-8\n"
        }
      ],
      "execution_count": 2
    },
    {
      "id": "b5bdd03d-459a-4b03-bdf9-f25bf97ee2dd",
      "cell_type": "markdown",
      "source": "## Solving Polynomial Equations\n\nTo find the roots of a polynomial equation:\n\n$\n𝑥^2 −4𝑥+4=0\n$",
      "metadata": {}
    },
    {
      "id": "32ee32ba-1f09-40d1-9205-1a6832bdad5b",
      "cell_type": "code",
      "source": "from sympy import solve\n\nexpr = x**2 - 4*x + 4\nsolutions = solve(expr, x)\n\nprint(solutions)  # Output: [2, 2]\n",
      "metadata": {
        "trusted": true
      },
      "outputs": [
        {
          "name": "stdout",
          "output_type": "stream",
          "text": "[2]\n"
        }
      ],
      "execution_count": 3
    },
    {
      "id": "13eea859-8ca4-4227-b749-2f4b9780558b",
      "cell_type": "markdown",
      "source": "# Summary\n* Factoring simplifies polynomials into products of expressions.\n* Polynomial division breaks down complex polynomials.\n* Solving polynomial equations finds their roots.",
      "metadata": {}
    },
    {
      "id": "3ff17b26-eba2-4430-9f75-a1bb8df71059",
      "cell_type": "markdown",
      "source": "# [College Algebra Context](./README.md)",
      "metadata": {}
    }
  ]
}