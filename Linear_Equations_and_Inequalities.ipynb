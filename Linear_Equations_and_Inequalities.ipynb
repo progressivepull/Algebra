{
  "metadata": {
    "kernelspec": {
      "name": "python",
      "display_name": "Python (Pyodide)",
      "language": "python"
    },
    "language_info": {
      "codemirror_mode": {
        "name": "python",
        "version": 3
      },
      "file_extension": ".py",
      "mimetype": "text/x-python",
      "name": "python",
      "nbconvert_exporter": "python",
      "pygments_lexer": "ipython3",
      "version": "3.8"
    }
  },
  "nbformat_minor": 5,
  "nbformat": 4,
  "cells": [
    {
      "id": "f0e5d0e6-0f71-4eaa-97cb-0eb8db0291b8",
      "cell_type": "markdown",
      "source": "# Tutorial: Linear Equations and Inequalities in Python\n\nLinear equations and inequalities are fundamental concepts in algebra. This tutorial will teach you how to solve linear equations and inequalities in Python, using the `sympy` library.\n\n---",
      "metadata": {}
    },
    {
      "id": "df800ef3-66ee-48df-96d5-9c01675b37ee",
      "cell_type": "markdown",
      "source": "## 1. What are Linear Equations and Inequalities?\n\n- **Linear Equation:** An equation where the variable(s) are raised to the first power.  \n  Example:  \n  \\[\n  2x + 3 = 7\n  \\]\n\n- **Linear Inequality:** Similar to linear equations, but uses inequality symbols:\n  - `<` (less than)\n  - `>` (greater than)\n  - `≤` (less than or equal to)\n  - `≥` (greater than or equal to)  \n  Example:  \n  \\[\n  x - 5 > 2\n  \\]\n\n---",
      "metadata": {}
    },
    {
      "id": "fe801c6d-30b8-4e80-bbdd-bbc70ffe6e6b",
      "cell_type": "markdown",
      "source": "## 2. Setting Up Python\n\nWe'll use the `sympy` library, which is great for symbolic mathematics.\n\n```bash\npip install sympy\n```\n\n---",
      "metadata": {}
    },
    {
      "id": "7bdce9d1-5823-4181-9516-aca181cdfc98",
      "cell_type": "markdown",
      "source": "## 3. Solving Linear Equations\n\nLet's solve an equation:  \n\\[\n2x + 3 = 7\n\\]\n\n### Step-by-Step in Python:",
      "metadata": {}
    },
    {
      "id": "74b419c7-d882-4a55-bfcc-82b0f129f821",
      "cell_type": "code",
      "source": "from sympy import symbols, Eq, solve\n\n# Define the variable\nx = symbols('x')\n\n# Define the equation: 2x + 3 = 7\nequation = Eq(2*x + 3, 7)\n\n# Solve for x\nsolution = solve(equation, x)\nprint(\"Solution:\", solution)",
      "metadata": {
        "trusted": true
      },
      "outputs": [
        {
          "name": "stdout",
          "output_type": "stream",
          "text": "Solution: [2]\n"
        }
      ],
      "execution_count": 2
    },
    {
      "id": "e0677b61-05b8-43ca-a7f7-6d9194056062",
      "cell_type": "markdown",
      "source": "**Output:**  \n```\nSolution: [2]\n```\nThis means \\( x = 2 \\) is the solution.\n\n---",
      "metadata": {}
    },
    {
      "id": "4a60f7e0-2bc9-4bbd-9aea-bef786e0a98f",
      "cell_type": "markdown",
      "source": "## 4. Solving Linear Inequalities\n\nLet's solve:  \n\\[\nx - 5 > 2\n\\]\n\n### Step-by-Step in Python:",
      "metadata": {}
    },
    {
      "id": "a09c14a9-3be5-4043-a304-6438c9ed9ed5",
      "cell_type": "code",
      "source": "from sympy import symbols, solve, Poly\n\nx = symbols('x')\ninequality = x - 5 > 2\n\n# Solve the inequality\nsolution = solve(inequality, x)\nprint(\"Solution:\", solution)",
      "metadata": {
        "trusted": true
      },
      "outputs": [
        {
          "name": "stdout",
          "output_type": "stream",
          "text": "Solution: (7 < x) & (x < oo)\n"
        }
      ],
      "execution_count": 3
    },
    {
      "id": "b65e82e6-00b8-4930-ade1-e03ea98be0df",
      "cell_type": "markdown",
      "source": "**Output:**  \n```\nSolution: x > 7\n```\nThis means \\( x > 7 \\).\n\n---",
      "metadata": {}
    },
    {
      "id": "0a269439-6df8-4cd5-a70d-92e1850fecbd",
      "cell_type": "markdown",
      "source": "### Example: Using All Inequality Symbols\n\nLet's see examples for each:",
      "metadata": {}
    },
    {
      "id": "9ac254ef-cfa5-45bf-8173-989f74f61c78",
      "cell_type": "code",
      "source": "from sympy import symbols, solve\n\nx = symbols('x')\n\n# Less than (<)\nprint(\"x + 2 < 5:\", solve(x + 2 < 5, x))\n\n# Greater than (>)\nprint(\"3x > 9:\", solve(3*x > 9, x))\n\n# Less than or equal (≤)\nprint(\"x - 4 <= 10:\", solve(x - 4 <= 10, x))\n\n# Greater than or equal (≥)\nprint(\"2x + 1 >= 7:\", solve(2*x + 1 >= 7, x))",
      "metadata": {
        "trusted": true
      },
      "outputs": [
        {
          "name": "stdout",
          "output_type": "stream",
          "text": "x + 2 < 5: (-oo < x) & (x < 3)\n3x > 9: (3 < x) & (x < oo)\nx - 4 <= 10: (-oo < x) & (x <= 14)\n2x + 1 >= 7: (3 <= x) & (x < oo)\n"
        }
      ],
      "execution_count": 4
    },
    {
      "id": "de42bb8f-8091-4ec3-a7a7-712746034785",
      "cell_type": "markdown",
      "source": "**Output:**  \n```\nx + 2 < 5: x < 3\n3x > 9: x > 3\nx - 4 <= 10: x <= 14\n2x + 1 >= 7: x >= 3\n```",
      "metadata": {}
    },
    {
      "id": "fab6d259-76c9-4c71-8140-51e4ff09b221",
      "cell_type": "markdown",
      "source": "## 5. Summary\n\n- Use `sympy` to define variables and equations/inequalities.\n- Use `Eq` for equations, and Python's comparison operators (`<`, `>`, `<=`, `>=`) for inequalities.\n- Use `solve()` to find solutions.\n\n---",
      "metadata": {}
    },
    {
      "id": "791b3c6e-1677-4bf3-a720-294fc2daad2d",
      "cell_type": "markdown",
      "source": "# [College Algebra Context](./README.md)",
      "metadata": {}
    }
  ]
}