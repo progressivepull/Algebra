{
  "metadata": {
    "kernelspec": {
      "name": "python",
      "display_name": "Python (Pyodide)",
      "language": "python"
    },
    "language_info": {
      "codemirror_mode": {
        "name": "python",
        "version": 3
      },
      "file_extension": ".py",
      "mimetype": "text/x-python",
      "name": "python",
      "nbconvert_exporter": "python",
      "pygments_lexer": "ipython3",
      "version": "3.8"
    }
  },
  "nbformat_minor": 5,
  "nbformat": 4,
  "cells": [
    {
      "id": "c8b3ef19-162b-4bf3-af5b-b3305e6550e9",
      "cell_type": "markdown",
      "source": "# Advanced Algebra with Python: Logarithms\n### Introduction\nLogarithms are widely used in mathematics, computer science, and engineering. Understanding logarithmic properties and how to solve logarithmic equations is crucial for various applications. In this tutorial, we’ll use Python to explore logarithms and solve logarithmic equations programmatically.",
      "metadata": {}
    },
    {
      "id": "35808403-9ab5-4ccb-9b1d-946045c0806e",
      "cell_type": "markdown",
      "source": "# Understanding Logarithms\n\nA **logarithm** is the inverse operation of **exponentiation**:\n$\n\\log_b(x) = y \\quad \\text{if and only if} \\quad b^y = x\n$\n\nWhere:\n\n- $ b $ is the **base** of the logarithm\n- $ x $ is the **argument**\n- $ y $ is the **exponent**\n\nLogarithms help solve equations involving exponents by allowing us to work with multiplicative relationships in an additive way.\n",
      "metadata": {}
    },
    {
      "id": "5bd19519-f7c0-40a5-9b08-1f0f4dbb5663",
      "cell_type": "code",
      "source": "import numpy as np\n\n# Compute logarithm base e (natural logarithm)\nx = 10\nlog_e = np.log(x)\nprint(f\"Natural logarithm of {x}: {log_e}\")\n\n# Compute logarithm base 10\nlog_10 = np.log10(x)\nprint(f\"Logarithm base 10 of {x}: {log_10}\")\n\n# Compute logarithm base 2\nlog_2 = np.log2(x)\nprint(f\"Logarithm base 2 of {x}: {log_2}\")\n",
      "metadata": {
        "trusted": true
      },
      "outputs": [
        {
          "name": "stdout",
          "output_type": "stream",
          "text": "Natural logarithm of 10: 2.302585092994046\nLogarithm base 10 of 10: 1.0\nLogarithm base 2 of 10: 3.321928094887362\n"
        }
      ],
      "execution_count": 2
    },
    {
      "id": "14a95992-1ade-4795-afde-6f44654a0a33",
      "cell_type": "markdown",
      "source": "## Product Rule\n\n$\n\\log_b(xy) = \\log_b(x) + \\log_b(y)\n$\n\nThe logarithm of a product is equal to the sum of the logarithms of the factors.\n\n## Quotient Rule\n\n$\n\\log_b\\left(\\frac{x}{y}\\right) = \\log_b(x) - \\log_b(y)\n$\n\nThe logarithm of a quotient is equal to the difference of the logarithms.\n\n## Power Rule\n\n$\n\\log_b(x^n) = n \\log_b(x)\n$\n\nThe logarithm of a power is equal to the exponent times the logarithm of the base.\n\n## Change of Base Formula\n\n$\n\\log_b(x) = \\frac{\\log_c(x)}{\\log_c(b)}\n$",
      "metadata": {}
    },
    {
      "id": "e1ffb93c-274b-4ebe-b24f-a453588a8edb",
      "cell_type": "code",
      "source": "a, b = 5, 3\n\n# Product Rule\nprint(f\"log(a * b) = {np.log(a * b)}\")\nprint(f\"log(a) + log(b) = {np.log(a) + np.log(b)}\")\n\n# Quotient Rule\nprint(f\"log(a / b) = {np.log(a / b)}\")\nprint(f\"log(a) - log(b) = {np.log(a) - np.log(b)}\")\n\n# Power Rule\nn = 2\nprint(f\"log(a^n) = {np.log(a**n)}\")\nprint(f\"n * log(a) = {n * np.log(a)}\")\n\n# Change of Base\nbase = 3\nvalue = 20\nchange_base = np.log(value) / np.log(base)\nprint(f\"log_{base}({value}) using change of base: {change_base}\")\n",
      "metadata": {
        "trusted": true
      },
      "outputs": [
        {
          "name": "stdout",
          "output_type": "stream",
          "text": "log(a * b) = 2.70805020110221\nlog(a) + log(b) = 2.70805020110221\nlog(a / b) = 0.5108256237659907\nlog(a) - log(b) = 0.5108256237659905\nlog(a^n) = 3.2188758248682006\nn * log(a) = 3.2188758248682006\nlog_3(20) using change of base: 2.7268330278608417\n"
        }
      ],
      "execution_count": 3
    },
    {
      "id": "478d8b1c-c384-40b2-bceb-1bcd9590a29b",
      "cell_type": "markdown",
      "source": "# Solving Logarithmic Equations\n\nTo solve logarithmic equations, we often use **exponentiation** to rewrite the equation in an exponential form.\n\n### Example:\nSolve for $ x $ in the equation:\n\n$\n\\log_2(x) = 5\n$\n\nTo solve for 𝑥, rewrite it as:\n\n$\nx = 2^5\n$\n\nThus, the solution is **$ x = 32 $**.",
      "metadata": {}
    },
    {
      "id": "ede221e2-0e3b-4098-a13c-3e6edc14e069",
      "cell_type": "code",
      "source": "x = 2**5\nprint(f\"Solution for log_2(x) = 5: x = {x}\")",
      "metadata": {
        "trusted": true
      },
      "outputs": [
        {
          "name": "stdout",
          "output_type": "stream",
          "text": "Solution for log_2(x) = 5: x = 32\n"
        }
      ],
      "execution_count": 4
    },
    {
      "id": "6e34179d-a638-477a-8936-1056b7b7156d",
      "cell_type": "markdown",
      "source": "For equations that require numerical solutions, use scipy.optimize:",
      "metadata": {}
    },
    {
      "id": "0d2b2cd3-c824-44cf-a081-bc8f55b13b82",
      "cell_type": "code",
      "source": "from scipy.optimize import fsolve\n\ndef equation(x):\n    return np.log2(x) - 5  # Logarithmic equation log2(x) = 5\n\nsolution = fsolve(equation, 1)  # Initial guess\nprint(f\"Solution for log_2(x) = 5: x = {solution[0]}\")\n",
      "metadata": {
        "trusted": true
      },
      "outputs": [
        {
          "name": "stdout",
          "output_type": "stream",
          "text": "Solution for log_2(x) = 5: x = 32.0\n"
        }
      ],
      "execution_count": 5
    },
    {
      "id": "e8876a53-d80c-4d6c-93b6-d63479ff50f8",
      "cell_type": "markdown",
      "source": "# [College Algebra Context](./README.md)",
      "metadata": {}
    }
  ]
}