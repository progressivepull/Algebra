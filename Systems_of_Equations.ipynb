{
  "metadata": {
    "kernelspec": {
      "name": "python",
      "display_name": "Python (Pyodide)",
      "language": "python"
    },
    "language_info": {
      "codemirror_mode": {
        "name": "python",
        "version": 3
      },
      "file_extension": ".py",
      "mimetype": "text/x-python",
      "name": "python",
      "nbconvert_exporter": "python",
      "pygments_lexer": "ipython3",
      "version": "3.8"
    }
  },
  "nbformat_minor": 5,
  "nbformat": 4,
  "cells": [
    {
      "id": "30584e08-e035-469c-9bb6-3b179bf4b9bc",
      "cell_type": "markdown",
      "source": "# Solving Systems of Equations in Python\n\nA system of equations consists of two or more equations with multiple variables. Solving such systems means finding variable values that satisfy all equations simultaneously. In this tutorial, you'll learn how to solve systems of equations in Python using substitution and elimination methods, with the help of the **SymPy** library.\n\n---",
      "metadata": {}
    },
    {
      "id": "c6f84eab-25b5-4d45-aa5e-0b57163a06ea",
      "cell_type": "markdown",
      "source": "---\n\n## Prerequisites\n\nMake sure you have SymPy installed:\n\n```bash\npip install sympy\n```\n\n--",
      "metadata": {}
    },
    {
      "id": "ec6a3416-1bcf-491c-be2c-2074eb64d555",
      "cell_type": "markdown",
      "source": "## 1. Introduction to Systems of Equations\n\nA simple system of two equations:\n$\n\\begin{cases}\n2x + 3y = 13 \\\\\nx - y = 1\n\\end{cases}\n$",
      "metadata": {}
    },
    {
      "id": "1acf4ec4-c2f0-4a8e-a3c7-c992b8b38cd9",
      "cell_type": "markdown",
      "source": "## 2. Solving by Substitution\n\n**Substitution** involves solving one equation for one variable and substituting into the other equation.\n\n### Example\n\n$\n\\begin{cases}\nx + y = 6 \\\\\n2x - y = 3\n\\end{cases}\n$",
      "metadata": {}
    },
    {
      "id": "5281c0e7-a0eb-4de6-b7d9-d56f0a9f386a",
      "cell_type": "markdown",
      "source": "**Python Implementation:**",
      "metadata": {}
    },
    {
      "id": "d7838d0f-12e2-47b2-95ce-6a941ef34ec5",
      "cell_type": "code",
      "source": "import sympy as sp\n\nx, y = sp.symbols('x y')\n\n# Define the equations\neq1 = sp.Eq(x + y, 6)\neq2 = sp.Eq(2*x - y, 3)\n\n# Solve eq1 for y\nsol_y = sp.solve(eq1, y)[0]  # y = 6 - x\n\n# Substitute y into eq2\neq2_sub = eq2.subs(y, sol_y)  # 2x - (6 - x) = 3\n\n# Solve for x\nsol_x = sp.solve(eq2_sub, x)[0]\n\n# Back-substitute to find y\nsol_y_final = sol_y.subs(x, sol_x)\n\nprint(f\"x = {sol_x}, y = {sol_y_final}\")\n# Output: x = 3, y = 3",
      "metadata": {
        "trusted": true
      },
      "outputs": [
        {
          "name": "stdout",
          "output_type": "stream",
          "text": "x = 3, y = 3\n"
        }
      ],
      "execution_count": 1
    },
    {
      "id": "4a4d098f-b668-4df6-af73-b9a8039fb888",
      "cell_type": "markdown",
      "source": "## 3. Solving by Elimination\n\n**Elimination** involves adding or subtracting equations to eliminate one variable.\n\n### Example\n\n$\n\\begin{cases}\nx + 2y = 8 \\\\\n3x - 2y = 4\n\\end{cases}\n$",
      "metadata": {}
    },
    {
      "id": "a1d8e7dc-88a9-4655-934c-dce08f2a998a",
      "cell_type": "markdown",
      "source": "**Python Implementation:**",
      "metadata": {}
    },
    {
      "id": "1cd22478-6b16-4a1d-a4fa-d778b6a12e54",
      "cell_type": "code",
      "source": "# Define the equations\neq1 = sp.Eq(x + 2*y, 8)\neq2 = sp.Eq(3*x - 2*y, 4)\n\n# Add eq1 and eq2 to eliminate y\neq_add = eq1.lhs + eq2.lhs  # (x + 2y) + (3x - 2y) = x + 3x + 2y - 2y = 4x\nrhs_add = eq1.rhs + eq2.rhs  # 8 + 4 = 12\n\n# Solve for x\nx_val = sp.solve(sp.Eq(eq_add, rhs_add), x)[0]\n\n# Substitute x back to find y\ny_val = sp.solve(eq1.subs(x, x_val), y)[0]\n\nprint(f\"x = {x_val}, y = {y_val}\")\n# Output: x = 3, y = 2.5",
      "metadata": {
        "trusted": true
      },
      "outputs": [
        {
          "name": "stdout",
          "output_type": "stream",
          "text": "x = 3, y = 5/2\n"
        }
      ],
      "execution_count": 2
    },
    {
      "id": "cdd12ca8-2d9f-49dd-a0b6-bb69bd108d28",
      "cell_type": "markdown",
      "source": "## 4. Solving Systems Directly with SymPy\n\nSymPy can solve systems of equations directly using `sp.solve()` with a list of equations and variables.\n\n### Example\n\n$\n\\begin{cases}\n2x + y = 5 \\\\\nx - 3y = -4\n\\end{cases}\n$",
      "metadata": {}
    },
    {
      "id": "d21b5711-0830-4c8e-b455-c9a68af4e351",
      "cell_type": "markdown",
      "source": "**Python Implementation:**",
      "metadata": {}
    },
    {
      "id": "0d7f4bd9-c1a1-4bc3-90da-90f7b5b34a24",
      "cell_type": "code",
      "source": "# Define equations\neq1 = sp.Eq(2*x + y, 5)\neq2 = sp.Eq(x - 3*y, -4)\n\n# Solve the system\nsolution = sp.solve((eq1, eq2), (x, y))\nprint(solution)\n# Output: {x: 1, y: 3}",
      "metadata": {
        "trusted": true
      },
      "outputs": [
        {
          "name": "stdout",
          "output_type": "stream",
          "text": "{x: 11/7, y: 13/7}\n"
        }
      ],
      "execution_count": 3
    },
    {
      "id": "ce13187e-4533-49cd-9bcb-4360c0d56165",
      "cell_type": "markdown",
      "source": "\n## 5. Practice: Try Your Own System\n\nChange the equations below to practice:",
      "metadata": {}
    },
    {
      "id": "d9b04488-819d-433c-b1f3-fe732eb89ccb",
      "cell_type": "code",
      "source": "a, b = sp.symbols('a b')\neq1 = sp.Eq(a + b, 7)\neq2 = sp.Eq(2*a - b, 1)\n\nsolution = sp.solve((eq1, eq2), (a, b))\nprint(solution)",
      "metadata": {
        "trusted": true
      },
      "outputs": [
        {
          "name": "stdout",
          "output_type": "stream",
          "text": "{a: 8/3, b: 13/3}\n"
        }
      ],
      "execution_count": 4
    },
    {
      "id": "62d2b550-222a-4248-a618-27124296699a",
      "cell_type": "markdown",
      "source": "## 6. Solving Larger Systems\n\nThis approach also works for more than two equations and variables.\n\n**Example:**\n\n$\n\\begin{cases}\nx + y + z = 6 \\\\\n2x - y + z = 3 \\\\\nx + 2y - z = 4\n\\end{cases}\n$",
      "metadata": {}
    },
    {
      "id": "569a257f-22fb-4105-a0c8-eb18e446b0c2",
      "cell_type": "code",
      "source": "z = sp.symbols('z')\neq1 = sp.Eq(x + y + z, 6)\neq2 = sp.Eq(2*x - y + z, 3)\neq3 = sp.Eq(x + 2*y - z, 4)\n\nsolution = sp.solve((eq1, eq2, eq3), (x, y, z))\nprint(solution)",
      "metadata": {
        "trusted": true
      },
      "outputs": [
        {
          "name": "stdout",
          "output_type": "stream",
          "text": "{x: 11/7, y: 16/7, z: 15/7}\n"
        }
      ],
      "execution_count": 5
    },
    {
      "id": "28e1ddc3-be7f-46f9-810e-3a13b0e11186",
      "cell_type": "markdown",
      "source": "---\n\n## 7. Summary\n\n- Use substitution or elimination techniques to solve systems of equations.\n- SymPy's `solve()` function can handle systems of any size directly.\n- Practice by changing equations and variables in the examples above.\n\n---",
      "metadata": {}
    },
    {
      "id": "9bd59156-dde9-43b5-8d07-79e4c4c540b7",
      "cell_type": "markdown",
      "source": "## Further Reading\n\n- [SymPy: Solvers](https://docs.sympy.org/latest/modules/solvers/solvers.html)\n- [Systems of Linear Equations - Khan Academy](https://www.khanacademy.org/math/algebra/systems-of-equations)",
      "metadata": {}
    },
    {
      "id": "3d9601ec-8cb2-4416-a929-a1e4cab94ed3",
      "cell_type": "markdown",
      "source": "# [College Algebra Context](./README.md)",
      "metadata": {}
    }
  ]
}