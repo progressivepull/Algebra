{
  "metadata": {
    "kernelspec": {
      "name": "python",
      "display_name": "Python (Pyodide)",
      "language": "python"
    },
    "language_info": {
      "codemirror_mode": {
        "name": "python",
        "version": 3
      },
      "file_extension": ".py",
      "mimetype": "text/x-python",
      "name": "python",
      "nbconvert_exporter": "python",
      "pygments_lexer": "ipython3",
      "version": "3.8"
    }
  },
  "nbformat_minor": 5,
  "nbformat": 4,
  "cells": [
    {
      "id": "e3b0bcd3-af40-4b73-b4c2-12bdcdbfcfaf",
      "cell_type": "markdown",
      "source": "# Solving Algebraic Word Problems with Python\nAlgebra is essential in solving real-world problems, from finance to engineering. Python, with its simple syntax and powerful libraries, can help us automate algebraic problem-solving.",
      "metadata": {}
    },
    {
      "id": "79d2add4-8cd5-4154-9658-b0b3d2e6061d",
      "cell_type": "markdown",
      "source": "## 1. Understanding Word Problems\n* Before coding, break down the problem:\n* Identify known values.\n* Define variables for unknown values.\n* Translate the word problem into an algebraic equation.\n* Solve for the unknown variable using Python.",
      "metadata": {}
    },
    {
      "id": "f2910449-4f64-4c89-8f7c-14fdb6531af4",
      "cell_type": "markdown",
      "source": "## 2. Using Python for Algebraic Solutions\nPython’s built-in capabilities and libraries like **sympy** allow us to handle algebraic equations efficiently.",
      "metadata": {}
    },
    {
      "id": "601ae464-48fa-4285-ad64-d99bca6e31fb",
      "cell_type": "markdown",
      "source": "### Example 1: Solving a Basic Equation\nA store sells apples for 2 dollars each. If a customer spends 14 dollars, how many apples did they buy?",
      "metadata": {}
    },
    {
      "id": "c9c64f7e-7c8e-4781-bd0f-381588f074ee",
      "cell_type": "code",
      "source": "from sympy import symbols, Eq, solve\n\n# Define variable\nx = symbols('x')\n\n# Create equation\nequation = Eq(2 * x, 14)\n\n# Solve\nsolution = solve(equation, x)\nprint(f\"The customer bought {solution[0]} apples.\")\n",
      "metadata": {
        "trusted": true
      },
      "outputs": [
        {
          "name": "stdout",
          "output_type": "stream",
          "text": "The customer bought 7 apples.\n"
        }
      ],
      "execution_count": 2
    },
    {
      "id": "df28ad22-c64b-43e0-aed6-821686530e1e",
      "cell_type": "markdown",
      "source": "### Example 2: Solving a Distance Problem\nJohn drives at 60 mph. How long will it take him to travel 180 miles?",
      "metadata": {}
    },
    {
      "id": "feb16a26-f6d6-4aa2-b2b7-af6225c3c06d",
      "cell_type": "code",
      "source": "# Distance formula: distance = speed × time\nspeed = 60  # mph\ndistance = 180  # miles\n\n# Calculate time\ntime = distance / speed\nprint(f\"John will take {time} hours to travel 180 miles.\")\n",
      "metadata": {
        "trusted": true
      },
      "outputs": [
        {
          "name": "stdout",
          "output_type": "stream",
          "text": "John will take 3.0 hours to travel 180 miles.\n"
        }
      ],
      "execution_count": 3
    },
    {
      "id": "0c3f17e2-be1d-4c04-8281-58ab1a84878c",
      "cell_type": "markdown",
      "source": "#### Example 3: Solving a System of Equations\nIf a movie ticket costs x dollars and popcorn costs y dollars, and a customer pays 20 dollars for both, knowing that the ticket is 4 dollars more than the popcorn, find the prices.",
      "metadata": {}
    },
    {
      "id": "c607502e-1ed3-49b3-8644-38ae1b7ba291",
      "cell_type": "code",
      "source": "from sympy import symbols, Eq, solve\n\n# Define variables\nx, y = symbols('x y')\n\n# Create equations\neq1 = Eq(x + y, 20)\neq2 = Eq(x, y + 4)\n\n# Solve\nsolution = solve((eq1, eq2), (x, y))\nprint(f\"Ticket price: ${solution[x]}, Popcorn price: ${solution[y]}\")\n",
      "metadata": {
        "trusted": true
      },
      "outputs": [
        {
          "name": "stdout",
          "output_type": "stream",
          "text": "Ticket price: $12, Popcorn price: $8\n"
        }
      ],
      "execution_count": 4
    },
    {
      "id": "f61350dc-5e84-43ba-b5e5-bf40661d517c",
      "cell_type": "markdown",
      "source": "# [College Algebra Context](./README.md)",
      "metadata": {}
    }
  ]
}