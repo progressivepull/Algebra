{
  "metadata": {
    "kernelspec": {
      "name": "python",
      "display_name": "Python (Pyodide)",
      "language": "python"
    },
    "language_info": {
      "codemirror_mode": {
        "name": "python",
        "version": 3
      },
      "file_extension": ".py",
      "mimetype": "text/x-python",
      "name": "python",
      "nbconvert_exporter": "python",
      "pygments_lexer": "ipython3",
      "version": "3.8"
    }
  },
  "nbformat_minor": 5,
  "nbformat": 4,
  "cells": [
    {
      "id": "68ba3136-3008-451e-a5b4-98d4056724f3",
      "cell_type": "markdown",
      "source": "# Exploring Ring Theory with Python\n\n## Introduction\n**Ring Theory** is a branch of abstract algebra focused on sets equipped with two binary operations: **addition** and **multiplication**. A ring is defined as a set \\( R \\) with two operations satisfying specific axioms.\n\nIn this tutorial, we'll use Python to work with rings, verifying some fundamental properties.",
      "metadata": {}
    },
    {
      "id": "1558008a-2e59-46a4-b0b4-2bf8e40313c4",
      "cell_type": "markdown",
      "source": "---\n\n## 1. Understanding Rings\nA **ring** is a set $ R $ with two operations:\n- **Addition** (`+`): Forms an abelian group.\n- **Multiplication** (`*`): Is associative, distributes over addition.\n\n### Commutative Rings\nA ring is **commutative** if $ a \\cdot b = b \\cdot a $ for all $ a, b $ in $ R $.\n\n### Ring with Unity\nA ring has a **multiplicative identity** (denoted `1`) if $ a \\cdot 1 = a $ for all $ a $ in $ R $.\n\n---",
      "metadata": {}
    },
    {
      "id": "44718aa3-0839-4ec7-a7b2-4b43712ac8e5",
      "cell_type": "markdown",
      "source": "## 2. Implementing Rings in Python\nWe'll implement a basic **Ring** class to check properties.",
      "metadata": {}
    },
    {
      "id": "55ddee6d-b9ba-43e1-b0bf-cf672ce09ca3",
      "cell_type": "code",
      "source": "class Ring:\n    def __init__(self, elements, add, mul):\n        self.elements = elements\n        self.add = add\n        self.mul = mul\n\n    def is_commutative(self):\n        return all(self.mul(a, b) == self.mul(b, a) for a in self.elements for b in self.elements)\n\n    def has_identity(self):\n        return any(all(self.mul(e, a) == a for a in self.elements) for e in self.elements)",
      "metadata": {
        "trusted": true
      },
      "outputs": [],
      "execution_count": 1
    },
    {
      "id": "1248e5fa-4d63-4774-ae84-310c931a31a6",
      "cell_type": "markdown",
      "source": "# Define Integers Modulo 5 (Z_5)",
      "metadata": {}
    },
    {
      "id": "f4cfe35f-b71d-4a0a-b1d2-184853726706",
      "cell_type": "code",
      "source": "mod5_elements = {0, 1, 2, 3, 4}",
      "metadata": {
        "trusted": true
      },
      "outputs": [],
      "execution_count": 2
    },
    {
      "id": "851c45ac-e265-442a-8c46-229f3dab7af8",
      "cell_type": "markdown",
      "source": "# Addition and Multiplication Modulo 5",
      "metadata": {}
    },
    {
      "id": "739da2f5-6d0a-4939-a358-78041c17a973",
      "cell_type": "code",
      "source": "add_mod5 = lambda a, b: (a + b) % 5\nmul_mod5 = lambda a, b: (a * b) % 5",
      "metadata": {
        "trusted": true
      },
      "outputs": [],
      "execution_count": 3
    },
    {
      "id": "10a9a9c4-dd80-49c8-a733-d91cb69e2d06",
      "cell_type": "markdown",
      "source": "# Create Ring for Z_5",
      "metadata": {}
    },
    {
      "id": "253cc132-e214-42f0-9ec6-52855cc6426a",
      "cell_type": "code",
      "source": "ring_mod5 = Ring(mod5_elements, add_mod5, mul_mod5)",
      "metadata": {
        "trusted": true
      },
      "outputs": [],
      "execution_count": 4
    },
    {
      "id": "5780a574-e6cb-4d8b-afae-cd7b29de7a5e",
      "cell_type": "code",
      "source": "print(\"Commutative:\", ring_mod5.is_commutative())\nprint(\"Has Identity:\", ring_mod5.has_identity())",
      "metadata": {
        "trusted": true
      },
      "outputs": [
        {
          "name": "stdout",
          "output_type": "stream",
          "text": "Commutative: True\nHas Identity: True\n"
        }
      ],
      "execution_count": 5
    },
    {
      "id": "3ab0c021-80f1-49c7-9c10-64ae4888c3ed",
      "cell_type": "markdown",
      "source": "# [College Algebra Context](./README.md)",
      "metadata": {}
    }
  ]
}