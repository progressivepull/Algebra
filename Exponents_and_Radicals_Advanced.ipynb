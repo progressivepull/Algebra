{
  "metadata": {
    "kernelspec": {
      "name": "python",
      "display_name": "Python (Pyodide)",
      "language": "python"
    },
    "language_info": {
      "codemirror_mode": {
        "name": "python",
        "version": 3
      },
      "file_extension": ".py",
      "mimetype": "text/x-python",
      "name": "python",
      "nbconvert_exporter": "python",
      "pygments_lexer": "ipython3",
      "version": "3.8"
    }
  },
  "nbformat_minor": 5,
  "nbformat": 4,
  "cells": [
    {
      "id": "ee5c2687-b4cc-4ae0-aa35-bbd2302cc36b",
      "cell_type": "markdown",
      "source": "# Algebra with Python: Exponents and Radicals (Advanced)\n## Introduction\nExponents and radicals are essential in algebra and calculus. They help simplify expressions and solve equations efficiently.\n\n## What You'll Learn:\n* Simplifying exponent and radical expressions\n* Working with rational exponents\n* Solving equations involving exponents and radicals",
      "metadata": {}
    },
    {
      "id": "d2e6214b-338e-4815-b599-b48051dc26de",
      "cell_type": "markdown",
      "source": "## Simplifying Exponential Expressions\n\n### **Exponent Rules**\n- **Product Rule**: When multiplying powers with the same base:\n\n$\na^m \\cdot a^n = a^{m+n}\n$\n\n- **Quotient Rule**: When dividing powers with the same base:\n\n$\n\\frac{a^m}{a^n} = a^{m-n}\n$\n\n- **Power Rule**: When raising a power to another power:\n\n$\n(a^m)^n = a^{m \\cdot n}\n$\n\n### **Example Python Implementation**",
      "metadata": {}
    },
    {
      "id": "fd6941db-3248-48c3-a904-fabb7fa62033",
      "cell_type": "code",
      "source": "def product_rule(a, m, n):\n    return a ** (m + n)\n\ndef quotient_rule(a, m, n):\n    return a ** (m - n)\n\ndef power_rule(a, m, n):\n    return a ** (m * n)\n\n# Example usage\na, m, n = 2, 3, 4\nprint(\"Product Rule:\", product_rule(a, m, n))\nprint(\"Quotient Rule:\", quotient_rule(a, m, n))\nprint(\"Power Rule:\", power_rule(a, m, n))",
      "metadata": {
        "trusted": true
      },
      "outputs": [
        {
          "name": "stdout",
          "output_type": "stream",
          "text": "Product Rule: 128\nQuotient Rule: 0.5\nPower Rule: 4096\n"
        }
      ],
      "execution_count": 1
    },
    {
      "id": "9bcd9cb2-559a-4a70-9eea-a9b1c3341be3",
      "cell_type": "markdown",
      "source": "## Working with Radical Expressions\n\nRadicals and exponents are related by:\n\n$\n\\sqrt[n]{x} = x^{\\frac{1}{n}}\n$\n\n### **Python Implementation**",
      "metadata": {}
    },
    {
      "id": "1dad68ff-1e0a-44f5-8b75-aef4c3fdf3ad",
      "cell_type": "code",
      "source": "from sympy import symbols, simplify\n\nx = symbols('x')\nexpr = sqrt(x)  # Equivalent to x**(1/2)\n\nprint(simplify(expr))  # Output: sqrt(x)",
      "metadata": {
        "trusted": true
      },
      "outputs": [
        {
          "name": "stdout",
          "output_type": "stream",
          "text": "sqrt(x)\n"
        }
      ],
      "execution_count": 6
    },
    {
      "id": "c946d59f-fa8d-453c-b295-8c5344dd09a6",
      "cell_type": "markdown",
      "source": "Example: Cube root",
      "metadata": {}
    },
    {
      "id": "3f88560d-40df-451e-af9b-8c11f051b516",
      "cell_type": "code",
      "source": "from sympy import root\n\nexpr = root(x, 3)  # Equivalent to x**(1/3)\n\nprint(expr)  # Output: x**(1/3)",
      "metadata": {
        "trusted": true
      },
      "outputs": [
        {
          "name": "stdout",
          "output_type": "stream",
          "text": "x**(1/3)\n"
        }
      ],
      "execution_count": 7
    },
    {
      "id": "db35dd23-f85a-4751-9a66-bd6aad7fdd40",
      "cell_type": "markdown",
      "source": "# Solving Equations Involving Exponents and Radicals\nExample: Solve \n$\n𝑥^2=16\n$",
      "metadata": {}
    },
    {
      "id": "af270bb2-6ad9-413e-ab1b-611a7b121c86",
      "cell_type": "code",
      "source": "from sympy import solve\n\nexpr = x**2 - 16\nsolutions = solve(expr, x)\n\nprint(solutions)  # Output: [-4, 4]",
      "metadata": {
        "trusted": true
      },
      "outputs": [
        {
          "name": "stdout",
          "output_type": "stream",
          "text": "[-4, 4]\n"
        }
      ],
      "execution_count": 8
    },
    {
      "id": "8bd778a1-b718-468b-8cbd-26aad58e9c57",
      "cell_type": "markdown",
      "source": "Example: Solve \n$\n\\sqrt{x}=5\n$",
      "metadata": {}
    },
    {
      "id": "8a2138b4-f03f-4d43-920f-157a03086d6b",
      "cell_type": "code",
      "source": "expr = sqrt(x) - 5\nsolutions = solve(expr, x)\n\nprint(solutions)  # Output: [25]",
      "metadata": {
        "trusted": true
      },
      "outputs": [
        {
          "name": "stdout",
          "output_type": "stream",
          "text": "[25]\n"
        }
      ],
      "execution_count": 10
    },
    {
      "id": "7a4c51fb-0790-4502-ae61-f9f761468a7d",
      "cell_type": "markdown",
      "source": "# Summary\n* Exponent rules simplify expressions efficiently.\n* Radicals can be expressed as fractional exponents.\n* Python can solve equations involving exponents and radicals.",
      "metadata": {}
    },
    {
      "id": "9562eebb-dff9-4f4f-8190-bf6cde62ab70",
      "cell_type": "markdown",
      "source": "# [College Algebra Context](./README.md)",
      "metadata": {}
    }
  ]
}