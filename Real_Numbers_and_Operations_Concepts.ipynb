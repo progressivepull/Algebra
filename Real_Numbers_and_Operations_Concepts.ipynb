{
  "metadata": {
    "kernelspec": {
      "name": "python",
      "display_name": "Python (Pyodide)",
      "language": "python"
    },
    "language_info": {
      "codemirror_mode": {
        "name": "python",
        "version": 3
      },
      "file_extension": ".py",
      "mimetype": "text/x-python",
      "name": "python",
      "nbconvert_exporter": "python",
      "pygments_lexer": "ipython3",
      "version": "3.8"
    }
  },
  "nbformat_minor": 5,
  "nbformat": 4,
  "cells": [
    {
      "id": "5781690d-c3c9-4d87-998b-c51eb7538854",
      "cell_type": "markdown",
      "source": "# Real Numbers and Operations with Python\n\n## Introduction\n**Real numbers** include rational and irrational numbers, covering integers, fractions, and non-repeating decimals. In this tutorial, we'll use **Python** to explore the fundamental properties and perform basic operations with real numbers.",
      "metadata": {}
    },
    {
      "id": "a248e20d-99f6-478f-abe2-9ec35df7fbfb",
      "cell_type": "markdown",
      "source": "---\n\n## 1. Properties of Real Numbers\nReal numbers follow specific algebraic properties:\n\n- **Closure**: Addition and multiplication of real numbers result in a real number.\n- **Commutativity**: $ a + b = b + a $ and $ a \\cdot b = b \\cdot a $.\n- **Associativity**: $ (a + b) + c = a + (b + c) $, same for multiplication.\n- **Distributive Property**: $ a \\cdot (b + c) = a \\cdot b + a \\cdot c $.\n- **Identity Elements**: $ a + 0 = a $, $ a \\cdot 1 = a $.\n- **Inverse Elements**: $ a + (-a) = 0 $, $ a \\cdot \\frac{1}{a} = 1 $ (for nonzero $ a $).\n\n---",
      "metadata": {}
    },
    {
      "id": "8a5233a9-ef0e-464f-9709-f66776a26067",
      "cell_type": "markdown",
      "source": "## 2. Performing Operations with Real Numbers in Python\n\nWe'll implement operations and verify properties using Python:",
      "metadata": {}
    },
    {
      "id": "ab5658a8-3676-4165-87ab-d54293bdd3cb",
      "cell_type": "markdown",
      "source": "# Defining operations for real numbers",
      "metadata": {}
    },
    {
      "id": "881bd074-eb17-43f1-8c1e-39ad28461c1b",
      "cell_type": "code",
      "source": "def add(a, b):\n    return a + b",
      "metadata": {
        "trusted": true
      },
      "outputs": [],
      "execution_count": 1
    },
    {
      "id": "a5c7f22a-5851-4a56-a21f-467f60755fb9",
      "cell_type": "code",
      "source": "def multiply(a, b):\n    return a * b",
      "metadata": {
        "trusted": true
      },
      "outputs": [],
      "execution_count": 2
    },
    {
      "id": "c232ede4-9f26-47f0-838e-e711253c95ed",
      "cell_type": "code",
      "source": "def inverse_add(a):\n    return -a",
      "metadata": {
        "trusted": true
      },
      "outputs": [],
      "execution_count": 3
    },
    {
      "id": "2389c6ca-3271-465b-83b1-b8cd5f15bfb4",
      "cell_type": "code",
      "source": "def inverse_mult(a):\n    return 1 / a if a != 0 else None  # Avoid division by zero",
      "metadata": {
        "trusted": true
      },
      "outputs": [],
      "execution_count": 4
    },
    {
      "id": "19f10548-a9d5-4ce2-a8ab-a2a57373872b",
      "cell_type": "markdown",
      "source": "# Testing basic properties",
      "metadata": {}
    },
    {
      "id": "5b3a488f-8e17-492b-83cf-6f3d5ac1c1ba",
      "cell_type": "code",
      "source": "a, b, c = 5.3, -2.1, 7.4",
      "metadata": {
        "trusted": true
      },
      "outputs": [],
      "execution_count": 5
    },
    {
      "id": "730a04ad-6d76-4ba8-8386-c9d796d4a129",
      "cell_type": "markdown",
      "source": "# Commutativity",
      "metadata": {}
    },
    {
      "id": "d5caaf7a-d9ee-44cd-82c2-455333cfd533",
      "cell_type": "code",
      "source": "print(\"Addition Commutative:\", add(a, b) == add(b, a))\nprint(\"Multiplication Commutative:\", multiply(a, b) == multiply(b, a))",
      "metadata": {
        "trusted": true
      },
      "outputs": [
        {
          "name": "stdout",
          "output_type": "stream",
          "text": "Addition Commutative: True\nMultiplication Commutative: True\n"
        }
      ],
      "execution_count": 6
    },
    {
      "id": "73d30a8a-2633-4262-9c16-18f78a5e3bb8",
      "cell_type": "markdown",
      "source": "# Associativity",
      "metadata": {}
    },
    {
      "id": "656faf5f-fb67-4569-83bc-ae7261ead470",
      "cell_type": "code",
      "source": "print(\"Addition Associative:\", add(add(a, b), c) == add(a, add(b, c)))\nprint(\"Multiplication Associative:\", multiply(multiply(a, b), c) == multiply(a, multiply(b, c)))",
      "metadata": {
        "trusted": true
      },
      "outputs": [
        {
          "name": "stdout",
          "output_type": "stream",
          "text": "Addition Associative: False\nMultiplication Associative: True\n"
        }
      ],
      "execution_count": 7
    },
    {
      "id": "9ef20737-2bfb-43ef-bec9-bfb5a4298bff",
      "cell_type": "markdown",
      "source": "# Distributive Property",
      "metadata": {}
    },
    {
      "id": "5cdd8daf-1ccd-4781-b2e2-747cd4f43936",
      "cell_type": "code",
      "source": "print(\"Distributive Property:\", multiply(a, add(b, c)) == add(multiply(a, b), multiply(a, c)))",
      "metadata": {
        "trusted": true
      },
      "outputs": [
        {
          "name": "stdout",
          "output_type": "stream",
          "text": "Distributive Property: False\n"
        }
      ],
      "execution_count": 8
    },
    {
      "id": "dd10263b-d8cc-45b3-ad15-16e769c7f10c",
      "cell_type": "markdown",
      "source": "# Identity Elements",
      "metadata": {}
    },
    {
      "id": "832dfb0f-60f9-4710-9493-6916ce6d6de7",
      "cell_type": "code",
      "source": "print(\"Additive Identity:\", add(a, 0) == a)\nprint(\"Multiplicative Identity:\", multiply(a, 1) == a)",
      "metadata": {
        "trusted": true
      },
      "outputs": [
        {
          "name": "stdout",
          "output_type": "stream",
          "text": "Additive Identity: True\nMultiplicative Identity: True\n"
        }
      ],
      "execution_count": 9
    },
    {
      "id": "54247722-c244-4fdc-b31c-854a04a1dc4e",
      "cell_type": "markdown",
      "source": "# Inverse Elements",
      "metadata": {}
    },
    {
      "id": "53c9a209-97ef-4c9b-a8aa-a52ebfc8009c",
      "cell_type": "code",
      "source": "print(\"Additive Inverse:\", add(a, inverse_add(a)) == 0)\nprint(\"Multiplicative Inverse:\", multiply(a, inverse_mult(a)) == 1)",
      "metadata": {
        "trusted": true
      },
      "outputs": [
        {
          "name": "stdout",
          "output_type": "stream",
          "text": "Additive Inverse: True\nMultiplicative Inverse: True\n"
        }
      ],
      "execution_count": 10
    },
    {
      "id": "e31ba192-b8e7-47ca-aa61-208dc284fb4c",
      "cell_type": "markdown",
      "source": "## 3. Key Observations\n* Addition and multiplication satisfy commutativity and associativity.\n* Identity elements and inverses work as expected.\n* Distributive property holds for real numbers.\n* The multiplicative inverse is undefined for zero.",
      "metadata": {}
    },
    {
      "id": "19adccb8-17e0-41e9-893a-ce619a9841be",
      "cell_type": "markdown",
      "source": "# [College Algebra Context](./README.md)",
      "metadata": {}
    }
  ]
}
