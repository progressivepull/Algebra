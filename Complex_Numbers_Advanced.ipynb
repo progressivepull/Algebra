{
  "metadata": {
    "kernelspec": {
      "name": "python",
      "display_name": "Python (Pyodide)",
      "language": "python"
    },
    "language_info": {
      "codemirror_mode": {
        "name": "python",
        "version": 3
      },
      "file_extension": ".py",
      "mimetype": "text/x-python",
      "name": "python",
      "nbconvert_exporter": "python",
      "pygments_lexer": "ipython3",
      "version": "3.8"
    }
  },
  "nbformat_minor": 5,
  "nbformat": 4,
  "cells": [
    {
      "id": "9c0cba49-29e9-488d-a8df-c7211f083b61",
      "cell_type": "markdown",
      "source": "# Algebra with Python: Complex Numbers (Advanced)\n\n## Introduction\nComplex numbers extend real numbers and are essential in algebra, engineering, and physics. They take the form:\n\n$\nz = a + bi\n$\n\nwhere $ a $ is the real part and $ b $ is the imaginary part.\n\n### What You'll Learn:\n- Basic operations with complex numbers\n- Finding complex roots\n- Solving equations involving complex numbers",
      "metadata": {}
    },
    {
      "id": "7a35f23c-6a50-4a96-b52b-3f32292a87e3",
      "cell_type": "markdown",
      "source": "## Basic Operations with Complex Numbers\n\nIn Python, complex numbers use the `j` notation for imaginary numbers.\n\n### Example: Addition, Subtraction, Multiplication, and Division",
      "metadata": {}
    },
    {
      "id": "26f3962e-f2f6-4cb3-998f-9a5f46a983da",
      "cell_type": "code",
      "source": "# Define complex numbers\nz1 = complex(2, 3)  # 2 + 3i\nz2 = complex(1, -4) # 1 - 4i\n\n# Perform operations\naddition = z1 + z2\nsubtraction = z1 - z2\nmultiplication = z1 * z2\ndivision = z1 / z2\n\nprint(\"Addition:\", addition)         # Output: (3 - 1j)\nprint(\"Subtraction:\", subtraction)   # Output: (1 + 7j)\nprint(\"Multiplication:\", multiplication) # Output: (14 - 5j)\nprint(\"Division:\", division)         # Output: (-0.647 + 0.529j)",
      "metadata": {
        "trusted": true
      },
      "outputs": [
        {
          "name": "stdout",
          "output_type": "stream",
          "text": "Addition: (3-1j)\nSubtraction: (1+7j)\nMultiplication: (14-5j)\nDivision: (-0.5882352941176471+0.6470588235294118j)\n"
        }
      ],
      "execution_count": 1
    },
    {
      "id": "2d06a345-d451-4405-8f43-4e07033a0522",
      "cell_type": "markdown",
      "source": "# Complex Roots\nFinding square roots of negative numbers leads to complex solutions.\n\n### Example: Square root of a negative number",
      "metadata": {}
    },
    {
      "id": "06d14a9c-ce57-45a2-a106-6da675d02caa",
      "cell_type": "code",
      "source": "import cmath  # Complex math functions\n\nnum = -9\ncomplex_root = cmath.sqrt(num)\n\nprint(\"Complex Root:\", complex_root)  # Output: 3j\n",
      "metadata": {
        "trusted": true
      },
      "outputs": [
        {
          "name": "stdout",
          "output_type": "stream",
          "text": "Complex Root: 3j\n"
        }
      ],
      "execution_count": 2
    },
    {
      "id": "3f1e85be-0623-4212-8e8a-1b71c018fa8e",
      "cell_type": "markdown",
      "source": "## Example: Finding Complex Roots of Quadratic Equations\n\nTo solve:\n\n$\nx^2 + 2x + 5 = 0\n$",
      "metadata": {}
    },
    {
      "id": "bd667917-78fb-44a7-b0dc-bc9434399026",
      "cell_type": "code",
      "source": "import cmath\n\na, b, c = 1, 2, 5\ndiscriminant = cmath.sqrt(b**2 - 4*a*c)\nroot1 = (-b + discriminant) / (2*a)\nroot2 = (-b - discriminant) / (2*a)\n\nprint(\"Complex Roots:\", root1, root2)  # Output: (-1+2j), (-1-2j)\n",
      "metadata": {
        "trusted": true
      },
      "outputs": [
        {
          "name": "stdout",
          "output_type": "stream",
          "text": "Complex Roots: (-1+2j) (-1-2j)\n"
        }
      ],
      "execution_count": 3
    },
    {
      "id": "bed04054-04a2-417b-aa16-205e609ce352",
      "cell_type": "markdown",
      "source": "# Solving Equations Involving Complex Numbers\n### Example: Solving \n\n$\n3𝑥+2𝑖=5\n$",
      "metadata": {}
    },
    {
      "id": "044b7bfc-7434-410f-906c-10886dce700a",
      "cell_type": "code",
      "source": "from sympy import symbols, Eq, solve\n\nx = symbols('x')\nequation = Eq(3*x + 2j, 5)\nsolution = solve(equation, x)\n\nprint(\"Solution:\", solution)  # Output: (5 - 2j)/3",
      "metadata": {
        "trusted": true
      },
      "outputs": [
        {
          "name": "stdout",
          "output_type": "stream",
          "text": "Solution: [1.66666666666667 - 0.666666666666667*I]\n"
        }
      ],
      "execution_count": 4
    },
    {
      "id": "beae7e94-1f1d-4d91-9c3b-e82d69f9ac9a",
      "cell_type": "markdown",
      "source": "# Summary\n* Complex numbers are represented as $𝑎+𝑏𝑖$ in Python.\n* Basic operations include addition, subtraction, multiplication, and division.\n* Complex roots arise in quadratic equations with negative discriminants.\n* Python can solve equations involving complex numbers.",
      "metadata": {}
    },
    {
      "id": "5cfeb021-a5ed-49f4-9da7-8f737d0fad14",
      "cell_type": "markdown",
      "source": "# [College Algebra Context](./README.md)",
      "metadata": {}
    }
  ]
}