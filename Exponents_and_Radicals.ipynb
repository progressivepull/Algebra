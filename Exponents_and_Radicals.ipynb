{
  "metadata": {
    "kernelspec": {
      "name": "python",
      "display_name": "Python (Pyodide)",
      "language": "python"
    },
    "language_info": {
      "codemirror_mode": {
        "name": "python",
        "version": 3
      },
      "file_extension": ".py",
      "mimetype": "text/x-python",
      "name": "python",
      "nbconvert_exporter": "python",
      "pygments_lexer": "ipython3",
      "version": "3.8"
    }
  },
  "nbformat_minor": 5,
  "nbformat": 4,
  "cells": [
    {
      "id": "3e4c572c-6d36-4acf-8212-72b1be2a1d41",
      "cell_type": "markdown",
      "source": "# Exponents and Radicals in Python\n\nExponents and radicals (roots) are fundamental mathematical concepts used to express repeated multiplication and roots of numbers. In this tutorial, you'll learn how to work with exponents and radicals using Python, including the rules and some practical applications. We'll use both Python's built-in operators and the SymPy library for symbolic computation.\n\n---",
      "metadata": {}
    },
    {
      "id": "ceeae043-c872-405a-adf3-db12caac6d1b",
      "cell_type": "markdown",
      "source": "## Prerequisites\n\nInstall SymPy for symbolic math:\n\n```bash\npip install sympy\n```\n\n---",
      "metadata": {}
    },
    {
      "id": "d6ab422a-3bcc-407c-8c33-1f6a5862e65f",
      "cell_type": "markdown",
      "source": "## 1. Exponents in Python\n\n### Basic Exponentiation\n\n- **Syntax:** `a ** b` means \"a raised to the power of b\".",
      "metadata": {}
    },
    {
      "id": "2415803b-ac55-4da8-9867-b471238ec516",
      "cell_type": "code",
      "source": "# 2 raised to the power of 3\nresult = 2 ** 3\nprint(result)  # Output: 8",
      "metadata": {
        "trusted": true
      },
      "outputs": [
        {
          "name": "stdout",
          "output_type": "stream",
          "text": "8\n"
        }
      ],
      "execution_count": 1
    },
    {
      "id": "241e139b-fd7a-4f2f-95b7-375f73087a42",
      "cell_type": "markdown",
      "source": "### Using SymPy for Symbolic Exponents",
      "metadata": {}
    },
    {
      "id": "3ec6a4a6-8d3f-4669-a59e-f4370f81e5ea",
      "cell_type": "code",
      "source": "import sympy as sp\n\nx = sp.symbols('x')\nexpression = x ** 3\nprint(expression)  # Output: x**3",
      "metadata": {
        "trusted": true
      },
      "outputs": [
        {
          "name": "stdout",
          "output_type": "stream",
          "text": "x**3\n"
        }
      ],
      "execution_count": 2
    },
    {
      "id": "ed7e2ee4-16ea-4b70-8903-3c7f799daa3a",
      "cell_type": "markdown",
      "source": "## 2. Rules of Exponents\n\n| Rule                                 | Example            | Python Example                           |\n|-------------------------------------- |--------------------|------------------------------------------|\n| $ a^m \\cdot a^n = a^{m+n} $        | $ 2^3 \\cdot 2^4 $ | `2**3 * 2**4`                            |\n| $ (a^m)^n = a^{mn} $               | $ (3^2)^4 $       | `(3**2)**4`                              |\n| $ a^0 = 1 $                        | $ 5^0 $           | `5**0`                                   |\n| $ a^{-n} = 1/a^n $                 | $ 2^{-3} $        | `2**-3`                                  |\n| $ a^m / a^n = a^{m-n} $            | $ 4^5 / 4^2 $     | `4**5 / 4**2`                            |\n\n**Python examples:**",
      "metadata": {}
    },
    {
      "id": "10a1d6e3-b42d-4119-9bfc-bd92f3c636db",
      "cell_type": "code",
      "source": "print(2**3 * 2**4)    # 128\nprint((3**2)**4)      # 81\nprint(5**0)           # 1\nprint(2**-3)          # 0.125\nprint(4**5 / 4**2)    # 64.0",
      "metadata": {
        "trusted": true
      },
      "outputs": [
        {
          "name": "stdout",
          "output_type": "stream",
          "text": "128\n6561\n1\n0.125\n64.0\n"
        }
      ],
      "execution_count": 3
    },
    {
      "id": "7e1aec9d-927c-4f16-854c-6096d1969592",
      "cell_type": "markdown",
      "source": "## 3. Radicals (Roots) in Python\n\n### Square Roots and Higher Roots\n\n- The square root of `a` is written as $ \\sqrt{a} $ or $ a^{1/2} $.\n- The n-th root of `a` is $ a^{1/n} $.\n\n**Python (using `**` operator):**",
      "metadata": {}
    },
    {
      "id": "fd60c67a-49f7-46fb-9731-ccdde8a079a3",
      "cell_type": "code",
      "source": "# Square root\nprint(16 ** 0.5)  # Output: 4.0\n\n# Cube root\nprint(27 ** (1/3))  # Output: 3.0",
      "metadata": {
        "trusted": true
      },
      "outputs": [
        {
          "name": "stdout",
          "output_type": "stream",
          "text": "4.0\n3.0\n"
        }
      ],
      "execution_count": 4
    },
    {
      "id": "8607078b-69dc-471b-81f9-9dc7718db66e",
      "cell_type": "markdown",
      "source": "### Using SymPy for Symbolic Radicals",
      "metadata": {}
    },
    {
      "id": "fda2dcd1-a066-483e-a306-0f7f94687ee2",
      "cell_type": "code",
      "source": "expr = sp.sqrt(x)\nprint(expr)  # Output: sqrt(x)\n\n# n-th root\nnth_root_expr = x ** (1/5)\nprint(nth_root_expr)  # Output: x**(1/5)",
      "metadata": {
        "trusted": true
      },
      "outputs": [
        {
          "name": "stdout",
          "output_type": "stream",
          "text": "sqrt(x)\nx**0.2\n"
        }
      ],
      "execution_count": 5
    },
    {
      "id": "faaa901d-f1aa-4530-afe8-a7a4fa09351d",
      "cell_type": "markdown",
      "source": "## 4. Simplifying Exponential and Radical Expressions\n\nSymPy can simplify expressions involving exponents and radicals.",
      "metadata": {}
    },
    {
      "id": "c5ab57ea-5ec6-4775-9568-871ea20c6626",
      "cell_type": "code",
      "source": "# Simplifying exponents\nexpr = x**3 * x**2\nprint(sp.simplify(expr))  # Output: x**5\n\n# Simplifying radicals\nexpr = sp.sqrt(50)\nprint(sp.simplify(expr))  # Output: 5*sqrt(2)",
      "metadata": {
        "trusted": true
      },
      "outputs": [
        {
          "name": "stdout",
          "output_type": "stream",
          "text": "x**5\n5*sqrt(2)\n"
        }
      ],
      "execution_count": 6
    },
    {
      "id": "7a5f813b-05a9-4b8c-84dc-d51a98b09af5",
      "cell_type": "markdown",
      "source": "## 5. Rationalizing Denominators\n\nRationalizing is the process of removing radicals from denominators.\n\n**Example: Rationalize $ \\frac{1}{\\sqrt{2}} $**",
      "metadata": {}
    },
    {
      "id": "689e60f9-f29c-4701-99b0-f056bd3f3c9c",
      "cell_type": "code",
      "source": "expr = 1 / sp.sqrt(2)\nrationalized = sp.ratsimp(expr)\nprint(rationalized)  # Output: sqrt(2)/2",
      "metadata": {
        "trusted": true
      },
      "outputs": [
        {
          "name": "stdout",
          "output_type": "stream",
          "text": "sqrt(2)/2\n"
        }
      ],
      "execution_count": 7
    },
    {
      "id": "720ea9cf-2d58-4a49-b67d-4c37f4066108",
      "cell_type": "markdown",
      "source": "## 6. Applications: Solving Equations with Exponents and Radicals\n\n**Example 1: Solve $ x^2 = 16 $**",
      "metadata": {}
    },
    {
      "id": "48663752-39c4-4ec4-bc22-332c030e9378",
      "cell_type": "code",
      "source": "solution = sp.solve(x**2 - 16, x)\nprint(solution)  # Output: [-4, 4]",
      "metadata": {
        "trusted": true
      },
      "outputs": [
        {
          "name": "stdout",
          "output_type": "stream",
          "text": "[-4, 4]\n"
        }
      ],
      "execution_count": 8
    },
    {
      "id": "43f1a21e-1a2f-47c0-b0cc-6a12287793b8",
      "cell_type": "markdown",
      "source": "**Example 2: Solve $ \\sqrt{x} = 5 $**",
      "metadata": {}
    },
    {
      "id": "9823690d-5219-4683-9f7a-e88e88819404",
      "cell_type": "code",
      "source": "solution = sp.solve(sp.sqrt(x) - 5, x)\nprint(solution)  # Output: [25]",
      "metadata": {
        "trusted": true
      },
      "outputs": [
        {
          "name": "stdout",
          "output_type": "stream",
          "text": "[25]\n"
        }
      ],
      "execution_count": 9
    },
    {
      "id": "395f81f8-d592-4fc2-86ed-192f560e0b28",
      "cell_type": "markdown",
      "source": "## 7. Practice: Try Your Own\n\nReplace `expr` with your own expressions:",
      "metadata": {}
    },
    {
      "id": "c3177d8e-ca78-4d63-857f-150f71c9fd23",
      "cell_type": "code",
      "source": "expr = (x**4)**(1/2)\nprint(sp.simplify(expr))  # Output: x**2",
      "metadata": {
        "trusted": true
      },
      "outputs": [
        {
          "name": "stdout",
          "output_type": "stream",
          "text": "(x**4)**0.5\n"
        }
      ],
      "execution_count": 10
    },
    {
      "id": "c20fe13b-de5b-4be1-a331-e475e57ba04c",
      "cell_type": "markdown",
      "source": "---\n\n## 8. Summary\n\n- Use `**` for powers and roots in Python.\n- SymPy allows symbolic manipulation and simplification.\n- Know and apply the rules of exponents and radicals for simplification and equation solving.\n\n---",
      "metadata": {}
    },
    {
      "id": "d2ee236b-06b9-4374-9028-3cad6e70f8ab",
      "cell_type": "markdown",
      "source": "## Further Reading\n\n- [SymPy: Exponents and Roots](https://docs.sympy.org/latest/modules/core.html#powers)\n- [Python Math Operators](https://docs.python.org/3/library/stdtypes.html#numeric-types-int-float-complex)",
      "metadata": {}
    },
    {
      "id": "a47ca5e8-b249-4e86-83e2-6b3c773a564f",
      "cell_type": "markdown",
      "source": "# [College Algebra Context](./README>md)",
      "metadata": {}
    }
  ]
}