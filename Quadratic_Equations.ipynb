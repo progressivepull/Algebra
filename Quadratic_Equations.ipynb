{
  "metadata": {
    "kernelspec": {
      "name": "python",
      "display_name": "Python (Pyodide)",
      "language": "python"
    },
    "language_info": {
      "codemirror_mode": {
        "name": "python",
        "version": 3
      },
      "file_extension": ".py",
      "mimetype": "text/x-python",
      "name": "python",
      "nbconvert_exporter": "python",
      "pygments_lexer": "ipython3",
      "version": "3.8"
    }
  },
  "nbformat_minor": 5,
  "nbformat": 4,
  "cells": [
    {
      "id": "0b164d5d-2ae5-46be-b80b-87a3fb15ca55",
      "cell_type": "markdown",
      "source": "# Solving Quadratic Equations in Python\n\nQuadratic equations are equations of the form:\n\n$ax^2 + bx + c = 0$\n\nwhere $ a \\neq 0 $. In this tutorial, you'll learn how to solve quadratic equations in Python using three major techniques:\n- Factoring\n- Completing the Square\n- The Quadratic Formula\n\nWe'll use [SymPy](https://www.sympy.org/) for symbolic mathematics.\n\n---",
      "metadata": {}
    },
    {
      "id": "0e319a76-407c-45af-a52a-b89c4070edc8",
      "cell_type": "markdown",
      "source": "---\n\n## Prerequisites\n\nInstall SymPy if you haven’t already:\n\n```bash\npip install sympy\n```\n\n---",
      "metadata": {}
    },
    {
      "id": "9954c135-c4c9-4a6f-a334-9ab180e28a39",
      "cell_type": "markdown",
      "source": "## 1. Factoring\n\nIf a quadratic can be factored, the solutions are the values of \\( x \\) that make each factor zero.\n\n**Example:**  \nSolve $ x^2 - 5x + 6 = 0 $",
      "metadata": {}
    },
    {
      "id": "0fb1d213-12fe-4ff0-85fa-896ca5da836a",
      "cell_type": "code",
      "source": "import sympy as sp\n\nx = sp.symbols('x')\nexpr = x**2 - 5*x + 6\n\n# Factor the quadratic\nfactored = sp.factor(expr)\nprint(f\"Factored form: {factored}\")  # (x - 2)*(x - 3)\n\n# Solve by setting each factor to zero\nsolutions = sp.solve(expr, x)\nprint(f\"Solutions: {solutions}\")      # [2, 3]",
      "metadata": {
        "trusted": true
      },
      "outputs": [
        {
          "name": "stdout",
          "output_type": "stream",
          "text": "Factored form: (x - 3)*(x - 2)\nSolutions: [2, 3]\n"
        }
      ],
      "execution_count": 1
    },
    {
      "id": "7b1c5ab8-0e6c-417d-a082-123081edfd99",
      "cell_type": "markdown",
      "source": "## 2. Completing the Square\n\nThis method rewrites the equation in the form $ (x + p)^2 = q $, then solves for $ x $.\n\n**Example:**  \nSolve $ x^2 + 6x + 5 = 0 $ by completing the square.",
      "metadata": {}
    },
    {
      "id": "da69f7a3-da0a-4b34-a3a1-a03567727397",
      "cell_type": "code",
      "source": "expr = x**2 + 6*x + 5\n\n# Step 1: Move the constant to the right side\n# x^2 + 6x = -5\n\n# Step 2: Add (b/2)^2 to both sides\n# (b/2)^2 = (6/2)^2 = 9\n# x^2 + 6x + 9 = -5 + 9\n# (x + 3)^2 = 4\n\n# Step 3: Solve for x\nsolutions = sp.solve(expr, x)\nprint(f\"Solutions: {solutions}\")      # [-5, -1]",
      "metadata": {
        "trusted": true
      },
      "outputs": [
        {
          "name": "stdout",
          "output_type": "stream",
          "text": "Solutions: [-5, -1]\n"
        }
      ],
      "execution_count": 2
    },
    {
      "id": "9562a8b8-b549-4736-8fa2-ac3b92d46f5a",
      "cell_type": "markdown",
      "source": "*You can also complete the square symbolically using SymPy's `sp.complete_square()`:*",
      "metadata": {}
    },
    {
      "id": "50999cca-bf7e-4d12-b95f-ae476b8d4768",
      "cell_type": "code",
      "source": "completed_square = sp.complete_square(expr, x)\nprint(completed_square)\n# Output: (x + 3)**2 - 4",
      "metadata": {
        "trusted": true
      },
      "outputs": [
        {
          "ename": "<class 'AttributeError'>",
          "evalue": "module 'sympy' has no attribute 'complete_square'",
          "traceback": [
            "\u001b[0;31m---------------------------------------------------------------------------\u001b[0m",
            "\u001b[0;31mAttributeError\u001b[0m                            Traceback (most recent call last)",
            "Cell \u001b[0;32mIn[3], line 1\u001b[0m\n\u001b[0;32m----> 1\u001b[0m completed_square \u001b[38;5;241m=\u001b[39m \u001b[43msp\u001b[49m\u001b[38;5;241;43m.\u001b[39;49m\u001b[43mcomplete_square\u001b[49m(expr, x)\n\u001b[1;32m      2\u001b[0m \u001b[38;5;28mprint\u001b[39m(completed_square)\n\u001b[1;32m      3\u001b[0m \u001b[38;5;66;03m# Output: (x + 3)**2 - 4\u001b[39;00m\n",
            "\u001b[0;31mAttributeError\u001b[0m: module 'sympy' has no attribute 'complete_square'"
          ],
          "output_type": "error"
        }
      ],
      "execution_count": 3
    },
    {
      "id": "cca1acd0-b214-4e98-ad5f-ce27896b550c",
      "cell_type": "markdown",
      "source": "## 3. The Quadratic Formula\n\nFor any equation $ ax^2 + bx + c = 0 $, the solutions are:\n\n$x = \\frac{-b \\pm \\sqrt{b^2 - 4ac}}{2a}$\n\n**Example:**  \nSolve $ 2x^2 + 3x - 2 = 0 $",
      "metadata": {}
    },
    {
      "id": "168f3e9e-aa7b-4aac-93db-27c8b90275c2",
      "cell_type": "code",
      "source": "a, b, c = 2, 3, -2\n\n# Using SymPy's solve (it applies the quadratic formula automatically)\nsolutions = sp.solve(a*x**2 + b*x + c, x)\nprint(f\"Solutions: {solutions}\")      # [(-3 - sqrt(25))/4, (-3 + sqrt(25))/4] or [-2, 0.5]",
      "metadata": {
        "trusted": true
      },
      "outputs": [
        {
          "name": "stdout",
          "output_type": "stream",
          "text": "Solutions: [-2, 1/2]\n"
        }
      ],
      "execution_count": 4
    },
    {
      "id": "be35c8b0-2b5c-4d7a-85fa-8d6ef5b64453",
      "cell_type": "markdown",
      "source": "*To see the quadratic formula in action:*",
      "metadata": {}
    },
    {
      "id": "9080a079-4adc-4d63-8f11-4d2a4818cee4",
      "cell_type": "code",
      "source": "# Symbolic computation of discriminant and formula\ndiscriminant = b**2 - 4*a*c\nx1 = (-b + sp.sqrt(discriminant)) / (2*a)\nx2 = (-b - sp.sqrt(discriminant)) / (2*a)\nprint(f\"x1 = {x1}, x2 = {x2}\")        # x1 = 0.5, x2 = -2",
      "metadata": {
        "trusted": true
      },
      "outputs": [
        {
          "name": "stdout",
          "output_type": "stream",
          "text": "x1 = 1/2, x2 = -2\n"
        }
      ],
      "execution_count": 5
    },
    {
      "id": "1041a7bf-ab38-44bd-b4a6-b49119d21dbc",
      "cell_type": "markdown",
      "source": "## 4. Practice: Try Your Own Quadratic\n\nReplace `a`, `b`, and `c` below:",
      "metadata": {}
    },
    {
      "id": "1dbe70a1-2c85-412c-a4d6-0ee33e46c086",
      "cell_type": "code",
      "source": "a, b, c = 1, 2, -8\nexpr = a*x**2 + b*x + c\n\nprint(\"Factoring:\")\nprint(sp.factor(expr))\n\nprint(\"Completing the square:\")\nprint(sp.complete_square(expr, x))\n\nprint(\"Quadratic formula solutions:\")\nprint(sp.solve(expr, x))",
      "metadata": {
        "trusted": true
      },
      "outputs": [
        {
          "name": "stdout",
          "output_type": "stream",
          "text": "Factoring:\n(x - 2)*(x + 4)\nCompleting the square:\n"
        },
        {
          "ename": "<class 'AttributeError'>",
          "evalue": "module 'sympy' has no attribute 'complete_square'",
          "traceback": [
            "\u001b[0;31m---------------------------------------------------------------------------\u001b[0m",
            "\u001b[0;31mAttributeError\u001b[0m                            Traceback (most recent call last)",
            "Cell \u001b[0;32mIn[6], line 8\u001b[0m\n\u001b[1;32m      5\u001b[0m \u001b[38;5;28mprint\u001b[39m(sp\u001b[38;5;241m.\u001b[39mfactor(expr))\n\u001b[1;32m      7\u001b[0m \u001b[38;5;28mprint\u001b[39m(\u001b[38;5;124m\"\u001b[39m\u001b[38;5;124mCompleting the square:\u001b[39m\u001b[38;5;124m\"\u001b[39m)\n\u001b[0;32m----> 8\u001b[0m \u001b[38;5;28mprint\u001b[39m(\u001b[43msp\u001b[49m\u001b[38;5;241;43m.\u001b[39;49m\u001b[43mcomplete_square\u001b[49m(expr, x))\n\u001b[1;32m     10\u001b[0m \u001b[38;5;28mprint\u001b[39m(\u001b[38;5;124m\"\u001b[39m\u001b[38;5;124mQuadratic formula solutions:\u001b[39m\u001b[38;5;124m\"\u001b[39m)\n\u001b[1;32m     11\u001b[0m \u001b[38;5;28mprint\u001b[39m(sp\u001b[38;5;241m.\u001b[39msolve(expr, x))\n",
            "\u001b[0;31mAttributeError\u001b[0m: module 'sympy' has no attribute 'complete_square'"
          ],
          "output_type": "error"
        }
      ],
      "execution_count": 6
    },
    {
      "id": "de2c6d4c-1af4-4681-812f-42dc86170a75",
      "cell_type": "markdown",
      "source": "---\n\n## 5. Summary Table\n\n| Technique               | Python Code Example                  | Output Example         |\n|-------------------------|--------------------------------------|-----------------------|\n| Factoring               | `sp.factor(x**2 - 5*x + 6)`          | `(x - 2)*(x - 3)`     |\n| Completing the Square   | `sp.complete_square(x**2 + 6*x + 5)` | `((x + 3)**2 - 4, x)` |\n| Quadratic Formula       | `sp.solve(2*x**2 + 3*x - 2, x)`      | `[-2, 0.5]`           |\n\n---",
      "metadata": {}
    },
    {
      "id": "472df654-1f1a-4035-9e24-e93a7d4c90eb",
      "cell_type": "markdown",
      "source": "---\n\n## 6. Further Reading\n\n- [SymPy: Solving Equations](https://docs.sympy.org/latest/modules/solvers/solvers.html)\n- [Quadratic Equations - Wikipedia](https://en.wikipedia.org/wiki/Quadratic_equation)\n\n---",
      "metadata": {}
    },
    {
      "id": "36d2ed46-7c45-454f-b0ff-4e352ad4b719",
      "cell_type": "markdown",
      "source": "# [College Algebra Context](./README.md)",
      "metadata": {}
    }
  ]
}