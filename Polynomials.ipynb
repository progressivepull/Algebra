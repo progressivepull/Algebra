{
 "cells": [
  {
   "cell_type": "markdown",
   "id": "11be16eb-e95c-4e50-bf1f-2f77183d16dd",
   "metadata": {},
   "source": [
    "# Working with Polynomials in Python\n",
    "\n",
    "## Introduction\n",
    "Polynomials are mathematical expressions consisting of variables and coefficients. In Python, we can perform operations on polynomials using **NumPy**, **SymPy**, or manually using lists.\n",
    "\n",
    "---\n",
    "\n",
    "## **Polynomial Representation**\n",
    "A polynomial like:\n",
    "\n",
    "\n",
    "\n",
    "\\[\n",
    "P(x) = 3x^3 + 2x^2 - 5x + 7\n",
    "\\]\n",
    "\n",
    "\n",
    "\n",
    "can be represented in Python as a list of coefficients:\n",
    "\n",
    "```python\n",
    "poly = [3, 2, -5, 7]  # Coefficients for 3x³ + 2x² - 5x + 7\n"
   ]
  },
  {
   "cell_type": "markdown",
   "id": "b0d6802c-0485-44fc-b11a-df801043c0be",
   "metadata": {},
   "source": [
    "Alternatively, you can use **NumPy** or **SymPy** for structured polynomial representation."
   ]
  },
  {
   "cell_type": "code",
   "execution_count": 3,
   "id": "8f010c2a-f5d8-4367-b811-3ebe607b7c13",
   "metadata": {},
   "outputs": [],
   "source": [
    "from sympy import symbols, expand, factor"
   ]
  },
  {
   "cell_type": "markdown",
   "id": "e62bae00",
   "metadata": {},
   "source": [
    "# **Define a Polynomial Expression**"
   ]
  },
  {
   "cell_type": "code",
   "execution_count": 4,
   "id": "0bdd7818",
   "metadata": {},
   "outputs": [
    {
     "name": "stdout",
     "output_type": "stream",
     "text": [
      "Polynomial 1: 2*x**2 + 3*x + 4\n",
      "Polynomial 2: x**2 + 2*x + 1\n"
     ]
    }
   ],
   "source": [
    "x = symbols('x')  # Define the variable x\n",
    "poly1 = 2*x**2 + 3*x + 4\n",
    "poly2 = x**2 + 2*x + 1\n",
    "\n",
    "print(\"Polynomial 1:\", poly1)\n",
    "print(\"Polynomial 2:\", poly2)"
   ]
  },
  {
   "cell_type": "markdown",
   "id": "eb6e8a74",
   "metadata": {},
   "source": [
    "# **Perform Polynomial Operations**"
   ]
  },
  {
   "cell_type": "markdown",
   "id": "7f07db03",
   "metadata": {},
   "source": [
    "## Addition"
   ]
  },
  {
   "cell_type": "code",
   "execution_count": 5,
   "id": "66e97b6d",
   "metadata": {},
   "outputs": [
    {
     "name": "stdout",
     "output_type": "stream",
     "text": [
      "Addition: 3*x**2 + 5*x + 5\n"
     ]
    }
   ],
   "source": [
    "sum_poly = poly1 + poly2\n",
    "print(\"Addition:\", sum_poly)"
   ]
  },
  {
   "cell_type": "markdown",
   "id": "61ac96c8",
   "metadata": {},
   "source": [
    "## Subtraction"
   ]
  },
  {
   "cell_type": "code",
   "execution_count": 6,
   "id": "784243de",
   "metadata": {},
   "outputs": [
    {
     "name": "stdout",
     "output_type": "stream",
     "text": [
      "Subtraction: x**2 + x + 3\n"
     ]
    }
   ],
   "source": [
    "diff_poly = poly1 - poly2\n",
    "print(\"Subtraction:\", diff_poly)"
   ]
  },
  {
   "cell_type": "markdown",
   "id": "14717b9f",
   "metadata": {},
   "source": [
    "## Multiplication"
   ]
  },
  {
   "cell_type": "code",
   "execution_count": 7,
   "id": "2859fc2d",
   "metadata": {},
   "outputs": [
    {
     "name": "stdout",
     "output_type": "stream",
     "text": [
      "Multiplication: 2*x**4 + 7*x**3 + 12*x**2 + 11*x + 4\n"
     ]
    }
   ],
   "source": [
    "prod_poly = expand(poly1 * poly2)\n",
    "print(\"Multiplication:\", prod_poly)"
   ]
  },
  {
   "cell_type": "markdown",
   "id": "932dac4c",
   "metadata": {},
   "source": [
    "## Factoring"
   ]
  },
  {
   "cell_type": "code",
   "execution_count": 8,
   "id": "1179aff6",
   "metadata": {},
   "outputs": [
    {
     "name": "stdout",
     "output_type": "stream",
     "text": [
      "Factored Polynomial 1: 2*x**2 + 3*x + 4\n"
     ]
    }
   ],
   "source": [
    "factored_poly1 = factor(poly1)\n",
    "print(\"Factored Polynomial 1:\", factored_poly1)"
   ]
  },
  {
   "cell_type": "markdown",
   "id": "449dcba9",
   "metadata": {},
   "source": [
    "# [College Algebra Context](./README.md)"
   ]
  }
 ],
 "metadata": {
  "kernelspec": {
   "display_name": "Python 3 (ipykernel)",
   "language": "python",
   "name": "python3"
  },
  "language_info": {
   "codemirror_mode": {
    "name": "ipython",
    "version": 3
   },
   "file_extension": ".py",
   "mimetype": "text/x-python",
   "name": "python",
   "nbconvert_exporter": "python",
   "pygments_lexer": "ipython3",
   "version": "3.11.5"
  }
 },
 "nbformat": 4,
 "nbformat_minor": 5
}
