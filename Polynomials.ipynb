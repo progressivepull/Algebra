{
 "cells": [
  {
   "cell_type": "markdown",
   "id": "11be16eb-e95c-4e50-bf1f-2f77183d16dd",
   "metadata": {},
   "source": [
    "# Working with Polynomials in Python\n",
    "\n",
    "## Introduction\n",
    "Polynomials are mathematical expressions consisting of variables and coefficients. In Python, we can perform operations on polynomials using **NumPy**, **SymPy**, or manually using lists.\n",
    "\n",
    "---\n",
    "\n",
    "## **Polynomial Representation**\n",
    "A polynomial like:\n",
    "\n",
    "\n",
    "\n",
    "\\[\n",
    "P(x) = 3x^3 + 2x^2 - 5x + 7\n",
    "\\]\n",
    "\n",
    "\n",
    "\n",
    "can be represented in Python as a list of coefficients:\n",
    "\n",
    "```python\n",
    "poly = [3, 2, -5, 7]  # Coefficients for 3x³ + 2x² - 5x + 7\n"
   ]
  },
  {
   "cell_type": "markdown",
   "id": "b0d6802c-0485-44fc-b11a-df801043c0be",
   "metadata": {},
   "source": [
    "Alternatively, you can use **NumPy** or **SymPy** for structured polynomial representation."
   ]
  },
  {
   "cell_type": "markdown",
   "id": "0fb6b4ae-d249-4055-a53d-417e43d89197",
   "metadata": {},
   "source": [
    "## **Polynomial Addition & Subtraction**"
   ]
  },
  {
   "cell_type": "code",
   "execution_count": 1,
   "id": "0c9737ef-c0b2-4e0b-a763-663a4716e573",
   "metadata": {},
   "outputs": [
    {
     "name": "stdout",
     "output_type": "stream",
     "text": [
      "Sum: [ 4 -2  1  5]\n",
      "Difference: [  2   6 -11   9]\n"
     ]
    }
   ],
   "source": [
    "import numpy as np\n",
    "\n",
    "poly1 = np.array([3, 2, -5, 7])  # 3x³ + 2x² - 5x + 7\n",
    "poly2 = np.array([1, -4, 6, -2]) # 1x³ - 4x² + 6x - 2\n",
    "\n",
    "# Addition\n",
    "poly_sum = np.polyadd(poly1, poly2)\n",
    "print(\"Sum:\", poly_sum)\n",
    "\n",
    "# Subtraction\n",
    "poly_diff = np.polysub(poly1, poly2)\n",
    "print(\"Difference:\", poly_diff)\n"
   ]
  },
  {
   "cell_type": "code",
   "execution_count": 3,
   "id": "8f010c2a-f5d8-4367-b811-3ebe607b7c13",
   "metadata": {},
   "outputs": [],
   "source": [
    "from sympy import symbols, expand, factor"
   ]
  },
  {
   "cell_type": "markdown",
   "id": "e62bae00",
   "metadata": {},
   "source": [
    "# **Define a Polynomial Expression**"
   ]
  },
  {
   "cell_type": "code",
   "execution_count": null,
   "id": "0bdd7818",
   "metadata": {},
   "outputs": [],
   "source": []
  }
 ],
 "metadata": {
  "kernelspec": {
   "display_name": "Python 3 (ipykernel)",
   "language": "python",
   "name": "python3"
  },
  "language_info": {
   "codemirror_mode": {
    "name": "ipython",
    "version": 3
   },
   "file_extension": ".py",
   "mimetype": "text/x-python",
   "name": "python",
   "nbconvert_exporter": "python",
   "pygments_lexer": "ipython3",
   "version": "3.11.5"
  }
 },
 "nbformat": 4,
 "nbformat_minor": 5
}
