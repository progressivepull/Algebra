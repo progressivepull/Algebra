{
  "metadata": {
    "kernelspec": {
      "name": "python",
      "display_name": "Python (Pyodide)",
      "language": "python"
    },
    "language_info": {
      "codemirror_mode": {
        "name": "python",
        "version": 3
      },
      "file_extension": ".py",
      "mimetype": "text/x-python",
      "name": "python",
      "nbconvert_exporter": "python",
      "pygments_lexer": "ipython3",
      "version": "3.8"
    }
  },
  "nbformat_minor": 5,
  "nbformat": 4,
  "cells": [
    {
      "id": "759967b8-b88f-48d9-bf20-3aea1caae399",
      "cell_type": "markdown",
      "source": "# Factoring Polynomials in Python\n\nFactoring polynomials is a fundamental algebraic skill used to simplify expressions and solve equations. In this tutorial, you'll learn how to factor polynomials using Python, with a focus on practical tools such as **SymPy**, a powerful symbolic mathematics library.\n\n---",
      "metadata": {}
    },
    {
      "id": "64063a69-30a7-49ca-9529-70e95fba5e7b",
      "cell_type": "markdown",
      "source": "## Prerequisites\n\nInstall SymPy if you haven’t already:\n\n```bash\npip install sympy\n```\n\n---",
      "metadata": {}
    },
    {
      "id": "46b0bbe0-db10-4f36-aeda-bdd0774d5787",
      "cell_type": "markdown",
      "source": "## 1. Introduction to Factoring\n\nFactoring rewrites a polynomial as a product of simpler polynomials (called factors), for example:\n\n- $ x^2 - 5x + 6 = (x - 2)(x - 3) $\n- $ x^2 - 9 = (x - 3)(x + 3) $\n\nFactoring is useful for:\n- **Solving equations:** Set each factor to zero to find solutions.\n- **Simplifying expressions:** Reduce the complexity of algebraic expressions.\n\n---",
      "metadata": {}
    },
    {
      "id": "89206bea-a88d-49c7-b79e-a6169615eb59",
      "cell_type": "markdown",
      "source": "## 2. Factoring Polynomials with SymPy\n\n### Step 1: Import SymPy and Declare Symbols",
      "metadata": {}
    },
    {
      "id": "4c93f2b9-d3f0-4741-91f2-506a105cd02b",
      "cell_type": "code",
      "source": "import sympy as sp\n\nx = sp.symbols('x')",
      "metadata": {
        "trusted": true
      },
      "outputs": [],
      "execution_count": 1
    },
    {
      "id": "466755ac-6b0f-4b55-abae-f961b8ad01bc",
      "cell_type": "markdown",
      "source": "### Step 2: Factoring Quadratic Polynomials\n\n**Example: Factor $ x^2 - 5x + 6 $**",
      "metadata": {}
    },
    {
      "id": "abeef92c-1367-4d15-bdcc-a652e37a842f",
      "cell_type": "code",
      "source": "expr = x**2 - 5*x + 6\nfactored = sp.factor(expr)\nprint(f\"Factored form: {factored}\")\n# Output: Factored form: (x - 2)*(x - 3)",
      "metadata": {
        "trusted": true
      },
      "outputs": [
        {
          "name": "stdout",
          "output_type": "stream",
          "text": "Factored form: (x - 3)*(x - 2)\n"
        }
      ],
      "execution_count": 3
    },
    {
      "id": "178ea428-d26b-42f4-acf4-f1de6a90cbae",
      "cell_type": "markdown",
      "source": "### Step 3: Factoring Difference of Squares\n\n**Example: Factor $ x^2 - 9 $**",
      "metadata": {}
    },
    {
      "id": "e3b29548-f9fb-4059-8838-431b81f42c96",
      "cell_type": "code",
      "source": "expr = x**2 - 9\nfactored = sp.factor(expr)\nprint(f\"Factored form: {factored}\")\n# Output: Factored form: (x - 3)*(x + 3)",
      "metadata": {
        "trusted": true
      },
      "outputs": [
        {
          "name": "stdout",
          "output_type": "stream",
          "text": "Factored form: (x - 3)*(x + 3)\n"
        }
      ],
      "execution_count": 4
    },
    {
      "id": "6809f139-74e9-4309-9075-ca1229940786",
      "cell_type": "markdown",
      "source": "### Step 4: Factoring Cubic and Higher Degree Polynomials\n\n**Example: Factor $ x^3 - 6x^2 + 11x - 6 $**",
      "metadata": {}
    },
    {
      "id": "f2793669-5256-4c28-84a0-3bc5564abe18",
      "cell_type": "code",
      "source": "expr = x**3 - 6*x**2 + 11*x - 6\nfactored = sp.factor(expr)\nprint(f\"Factored form: {factored}\")\n# Output: Factored form: (x - 1)*(x - 2)*(x - 3)",
      "metadata": {
        "trusted": true
      },
      "outputs": [
        {
          "name": "stdout",
          "output_type": "stream",
          "text": "Factored form: (x - 3)*(x - 2)*(x - 1)\n"
        }
      ],
      "execution_count": 5
    },
    {
      "id": "98089893-af97-4252-80b5-54ba5ecd68d2",
      "cell_type": "markdown",
      "source": "### Step 5: Factoring Out the Greatest Common Factor (GCF)\n\n**Example: Factor $ 4x^3 - 8x^2 $**",
      "metadata": {}
    },
    {
      "id": "eb12113a-af62-473e-8209-a3a8f18e9d79",
      "cell_type": "code",
      "source": "expr = 4*x**3 - 8*x**2\nfactored = sp.factor(expr)\nprint(f\"Factored form: {factored}\")\n# Output: Factored form: 4*x**2*(x - 2)",
      "metadata": {
        "trusted": true
      },
      "outputs": [
        {
          "name": "stdout",
          "output_type": "stream",
          "text": "Factored form: 4*x**2*(x - 2)\n"
        }
      ],
      "execution_count": 6
    },
    {
      "id": "f3045908-b08b-42b6-8863-12597a27fbd3",
      "cell_type": "markdown",
      "source": "## 3. Using Factoring to Solve Equations\n\nOnce a polynomial is factored, set each factor equal to zero to solve for $ x $:\n\n**Example: Solve $ x^2 - 5x + 6 = 0 $**",
      "metadata": {}
    },
    {
      "id": "45ba9dfe-59ff-4c82-87f9-9cbe8f4a66cd",
      "cell_type": "code",
      "source": "solutions = sp.solve(x**2 - 5*x + 6, x)\nprint(f\"Solutions: {solutions}\")\n# Output: Solutions: [2, 3]",
      "metadata": {
        "trusted": true
      },
      "outputs": [
        {
          "name": "stdout",
          "output_type": "stream",
          "text": "Solutions: [2, 3]\n"
        }
      ],
      "execution_count": 7
    },
    {
      "id": "bf2afe9a-5665-4a0d-9026-07d97a6e8e34",
      "cell_type": "markdown",
      "source": "## 4. Factoring Multivariable Polynomials\n\n**Example: Factor $ x^2 + 2xy + y^2 $**",
      "metadata": {}
    },
    {
      "id": "d6b5bb3c-70ef-4c53-9b13-82e2f767b73c",
      "cell_type": "code",
      "source": "y = sp.symbols('y')\nexpr = x**2 + 2*x*y + y**2\nfactored = sp.factor(expr)\nprint(f\"Factored form: {factored}\")\n# Output: Factored form: (x + y)**2",
      "metadata": {
        "trusted": true
      },
      "outputs": [
        {
          "name": "stdout",
          "output_type": "stream",
          "text": "Factored form: (x + y)**2\n"
        }
      ],
      "execution_count": 8
    },
    {
      "id": "c9569c56-6b97-409d-b10e-737bd5952fc9",
      "cell_type": "markdown",
      "source": "## 5. Factoring Trigonometric Expressions\n\nSymPy can also factor trigonometric polynomials.\n\n**Example: Factor $ \\sin(x)^2 - \\cos(x)^2 $**",
      "metadata": {}
    },
    {
      "id": "aa5414fc-772d-494a-ad55-46324d182d83",
      "cell_type": "code",
      "source": "expr = sp.sin(x)**2 - sp.cos(x)**2\nfactored = sp.factor(expr)\nprint(f\"Factored form: {factored}\")\n# Output: Factored form: -(cos(x) + sin(x))*(cos(x) - sin(x))",
      "metadata": {
        "trusted": true
      },
      "outputs": [
        {
          "name": "stdout",
          "output_type": "stream",
          "text": "Factored form: -(-sin(x) + cos(x))*(sin(x) + cos(x))\n"
        }
      ],
      "execution_count": 9
    },
    {
      "id": "6f50eeb0-6e9d-46bc-ac22-a2119ea77410",
      "cell_type": "markdown",
      "source": "## 6. Practice: Try Factoring Yourself\n\nReplace `expr` with your own polynomial to see its factored form!",
      "metadata": {}
    },
    {
      "id": "e89cb0de-9b6a-47d6-9f73-51aef2f5de3a",
      "cell_type": "code",
      "source": "expr = x**4 - 16  # Try changing this\nfactored = sp.factor(expr)\nprint(f\"Factored form: {factored}\")\n# Output: Factored form: (x - 2)*(x + 2)*(x**2 + 4)",
      "metadata": {
        "trusted": true
      },
      "outputs": [
        {
          "name": "stdout",
          "output_type": "stream",
          "text": "Factored form: (x - 2)*(x + 2)*(x**2 + 4)\n"
        }
      ],
      "execution_count": 10
    },
    {
      "id": "33c79ca8-c096-4bc9-abbc-cc9ea27f5d45",
      "cell_type": "markdown",
      "source": "---\n\n## 7. Summary\n\n- **Factoring** helps simplify polynomials and solve equations.\n- **SymPy** makes factoring in Python easy and reliable.\n- You can factor single-variable, multi-variable, and even trigonometric polynomials.\n\n---",
      "metadata": {}
    },
    {
      "id": "0e0add99-9d04-4743-a7a1-1453c4e65fba",
      "cell_type": "markdown",
      "source": "## Further Reading\n\n- [SymPy Documentation: factor](https://docs.sympy.org/latest/modules/polys/reference.html#sympy.polys.polytools.factor)\n- [SymPy: Solving Equations](https://docs.sympy.org/latest/modules/solvers/solvers.html)",
      "metadata": {}
    },
    {
      "id": "8a63d8ff-c7bd-4a21-9e5b-46560a413b1e",
      "cell_type": "markdown",
      "source": "# [College Algebra Context](./README.md)",
      "metadata": {}
    }
  ]
}