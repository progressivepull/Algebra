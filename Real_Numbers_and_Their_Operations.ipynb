{
 "cells": [
  {
   "cell_type": "markdown",
   "id": "c7c06c66-7312-4eda-b42c-ebbf0b115b3b",
   "metadata": {},
   "source": [
    "# Tutorial: Real Numbers and Their Operations in Python\n",
    "\n",
    "Python makes working with real numbers easy and efficient. This tutorial will guide you through the concepts of integers, rational and irrational numbers, basic arithmetic operations, and fundamental properties of real numbers—all using Python.\n",
    "\n",
    "---\n",
    "\n",
    "## **1. Understanding Real Numbers**\n",
    "Real numbers include:\n",
    "\n",
    "- **Integers** (whole numbers): `-3, 0, 5`\n",
    "- **Rational numbers** (fractions/decimals that can be written as a ratio of two integers): `1/2, 3.75`\n",
    "- **Irrational numbers** (cannot be written as a ratio of two integers): `π, √2`\n",
    "\n",
    "Python supports all these number types with different representations:"
   ]
  },
  {
   "cell_type": "code",
   "execution_count": 1,
   "id": "96e3ddd0-84e2-490a-8189-f057dd0cac59",
   "metadata": {},
   "outputs": [
    {
     "name": "stdout",
     "output_type": "stream",
     "text": [
      "1.4142135623730951\n"
     ]
    }
   ],
   "source": [
    "# Integer example\n",
    "a = 5\n",
    "\n",
    "# Rational number (float)\n",
    "b = 3.75\n",
    "\n",
    "# Irrational number approximation (math module)\n",
    "import math\n",
    "c = math.sqrt(2)\n",
    "print(c)  # Approximation of √2"
   ]
  },
  {
   "cell_type": "markdown",
   "id": "1d9e06f7-03f1-41c1-9f64-9624509226ac",
   "metadata": {},
   "source": [
    "## **2. Basic Arithmetic Operations in Python**\n",
    "Python provides simple operators for arithmetic operations:"
   ]
  },
  {
   "cell_type": "code",
   "execution_count": 11,
   "id": "19ee5ef4-2839-48a1-8105-b3c80a318874",
   "metadata": {},
   "outputs": [
    {
     "name": "stdout",
     "output_type": "stream",
     "text": [
      "5+3=8    10-4=6    6*7=42    15/4=9.25\n"
     ]
    }
   ],
   "source": [
    "# Addition\n",
    "sum_result = 5 + 3\n",
    "\n",
    "# Subtraction\n",
    "diff_result = 10 - 4\n",
    "\n",
    "# Multiplication\n",
    "product_result = 6 * 7\n",
    "\n",
    "# Division (float result)\n",
    "quotient_result = 37 / 4\n",
    "\n",
    "print('5+3=' + str(sum_result), '   10-4='+str(diff_result), '   6*7='+str(product_result), '   15/4='+str(quotient_result))"
   ]
  },
  {
   "cell_type": "markdown",
   "id": "9d24d759-2507-4afd-b538-2e3d4b39c724",
   "metadata": {},
   "source": [
    "You can also perform **integer** division using // and **modulus** using %:"
   ]
  },
  {
   "cell_type": "code",
   "execution_count": 15,
   "id": "2493f970-4208-43de-9ad6-e55ce9d59a7c",
   "metadata": {},
   "outputs": [
    {
     "name": "stdout",
     "output_type": "stream",
     "text": [
      "37 // 4=9      37 % 4=1\n"
     ]
    }
   ],
   "source": [
    "# Integer division (floor division)\n",
    "integer_div = 37 // 4  # Result: 9\n",
    "\n",
    "# Modulus (remainder)\n",
    "remainder = 37 % 4  # Result: 1\n",
    "\n",
    "print('37 // 4=' + str(integer_div), '     37 % 4=' + str(remainder))"
   ]
  },
  {
   "cell_type": "markdown",
   "id": "490dcc4f-432f-4915-987d-eb67e365881b",
   "metadata": {},
   "source": [
    "### Integer division\n",
    "* **1. Division Step:** Normally, dividing 37 by 4 gives 9.25.\n",
    "\n",
    "* **2. Flooring Step:** Since we're using floor division (//), the decimal part is discarded, leaving only the whole number.\n",
    "\n",
    "* **3. Final Result:** integer_div is assigned the value 9.\n",
    "\n",
    "Floor division is useful when you need to work with whole numbers, like calculating how many full boxes can be packed with a given number of items or determining how many times something fits into a given space."
   ]
  },
  {
   "cell_type": "markdown",
   "id": "cd1db720-514b-4602-a693-433846a75c78",
   "metadata": {},
   "source": [
    "### Modulus (remainder)\n",
    "\n",
    "* **1. Division Step:** Normally, 37 ÷ 4 equals 9.25.\n",
    "\n",
    "* **2. Multiplication Step:** The integer quotient is 9, so multiplying 9 × 4 = 36.\n",
    "\n",
    "* **3. Finding the Remainder:** Subtract 36 from 37 to get 1.\n",
    "\n",
    "So, remainder is assigned the value 1."
   ]
  },
  {
   "cell_type": "markdown",
   "id": "5de9b1fc-f89a-477f-8a07-c6f3033527af",
   "metadata": {},
   "source": [
    "## **Real numbers follow some basic properties:**"
   ]
  },
  {
   "cell_type": "markdown",
   "id": "2506f291-27ab-4f31-8133-50e4f242e120",
   "metadata": {},
   "source": [
    "### **Distributive Property**\n",
    "\n",
    "For any numbers a, b, and c:\n",
    "\n",
    "\n",
    " $ a \\times (b + c) = (a \\times b) + (a \\times c ) $"
   ]
  },
  {
   "cell_type": "code",
   "execution_count": 17,
   "id": "0813b079-82d5-4257-b4c2-bd4c30b3c7d4",
   "metadata": {},
   "outputs": [
    {
     "name": "stdout",
     "output_type": "stream",
     "text": [
      "True\n"
     ]
    }
   ],
   "source": [
    "a, b, c = 2, 3, 4\n",
    "left_side = a * (b + c)\n",
    "right_side = (a * b) + (a * c)\n",
    "\n",
    "print(left_side == right_side)  # True"
   ]
  },
  {
   "cell_type": "markdown",
   "id": "59be43fe-82b3-4894-a01f-eb91ad703576",
   "metadata": {},
   "source": [
    "### **Associative Property**\n",
    "* **Addition:** $ (a + b) + c = a + (b + c) $           \n",
    "         \n",
    "* **Multiplication:** $ (a \\times b) \\times c = a \\times (b \\times c) $"
   ]
  },
  {
   "cell_type": "code",
   "execution_count": 19,
   "id": "3b1668ec-ea40-4c82-b022-caa88857f228",
   "metadata": {},
   "outputs": [
    {
     "name": "stdout",
     "output_type": "stream",
     "text": [
      "True True\n"
     ]
    }
   ],
   "source": [
    "a, b, c = 1, 2, 3\n",
    "\n",
    "# Addition associative\n",
    "addition_assoc = (a + b) + c == a + (b + c)\n",
    "\n",
    "# Multiplication associative\n",
    "multiplication_assoc = (a * b) * c == a * (b * c)\n",
    "\n",
    "print(addition_assoc, multiplication_assoc)  # True, True"
   ]
  },
  {
   "cell_type": "markdown",
   "id": "af85b409-bcdd-4fc6-b8f7-47e0957bfa31",
   "metadata": {},
   "source": [
    "### **Commutative Property**\n",
    "* **Addition:** $ a + b = b + a $        \n",
    "\n",
    "* **Multiplication:** $ a \\times b = b \\times a $"
   ]
  },
  {
   "cell_type": "code",
   "execution_count": 20,
   "id": "28f8740a-b53e-4c8c-a642-a336167038ad",
   "metadata": {},
   "outputs": [
    {
     "name": "stdout",
     "output_type": "stream",
     "text": [
      "True True\n"
     ]
    }
   ],
   "source": [
    "a, b = 5, 10\n",
    "\n",
    "# Addition commutative\n",
    "addition_comm = (a + b) == (b + a)\n",
    "\n",
    "# Multiplication commutative\n",
    "multiplication_comm = (a * b) == (b * a)\n",
    "\n",
    "print(addition_comm, multiplication_comm)  # True, True"
   ]
  },
  {
   "cell_type": "markdown",
   "id": "9213f576-e286-4c7b-9df1-c64c3e163409",
   "metadata": {},
   "source": [
    "### **Identity Property**\n",
    "* **Additive Identity:** $ a + 0 = a $      \n",
    "\n",
    "* **Multiplicative Identity:** $ a \\times 1 = a $"
   ]
  },
  {
   "cell_type": "code",
   "execution_count": 21,
   "id": "49b090ac-e73a-49d2-bf13-2ad2ee4efd80",
   "metadata": {},
   "outputs": [
    {
     "name": "stdout",
     "output_type": "stream",
     "text": [
      "True True\n"
     ]
    }
   ],
   "source": [
    "a = 5\n",
    "\n",
    "# Addition Identity\n",
    "addition_identity = (a + 0) == a\n",
    "\n",
    "# Multiplicative Identity\n",
    "multiplicative_identity = (a * 1) == a\n",
    "\n",
    "print(addition_identity, multiplicative_identity) # True, True"
   ]
  },
  {
   "cell_type": "markdown",
   "id": "837afbca-b655-482d-bdf6-65191a7607a2",
   "metadata": {},
   "source": [
    "### 5. **Inverse Property**\n",
    "* **Additive Inverse:** $ a + (-a) = 0 $    \n",
    "\n",
    "* **Multiplicative Inverse:** $ a \\times \\frac{1}{a} = 1 $    (for $ a \\neq 0 $)"
   ]
  },
  {
   "cell_type": "code",
   "execution_count": 23,
   "id": "2cd155ec-c4c9-4cea-a9cb-684cb541b9c0",
   "metadata": {},
   "outputs": [
    {
     "name": "stdout",
     "output_type": "stream",
     "text": [
      "Additive Inverse of 5: -5\n",
      "Multiplicative Inverse of 5: 0.2\n"
     ]
    }
   ],
   "source": [
    "def additive_inverse(a):\n",
    "    return -a\n",
    "\n",
    "def multiplicative_inverse(a):\n",
    "    if a == 0:\n",
    "        return \"Undefined (division by zero is not allowed)\"\n",
    "    return 1 / a\n",
    "\n",
    "# Example usage:\n",
    "num = 5\n",
    "\n",
    "print(f\"Additive Inverse of {num}: {additive_inverse(num)}\")\n",
    "print(f\"Multiplicative Inverse of {num}: {multiplicative_inverse(num)}\")\n"
   ]
  },
  {
   "cell_type": "markdown",
   "id": "a8158267-6273-4ff1-85ec-3f56cad9a2db",
   "metadata": {},
   "source": [
    "### **Closure Property**\n",
    "* **Addition:** The sum of any two real numbers is a real number.\n",
    "* **Multiplication:** The product of any two real numbers is a real number."
   ]
  },
  {
   "cell_type": "markdown",
   "id": "0885d106-c3f9-42da-a078-0b46249cd489",
   "metadata": {},
   "source": [
    "The Closure Property states that a set is closed under an operation if performing that operation on members of the set always results in a member of the same set. For example:\n",
    "\n",
    "The set of integers (\n",
    "𝑍\n",
    ") is closed under addition because the sum of any two integers is always an integer.\n",
    "\n",
    "The set of real numbers (\n",
    "𝑅\n",
    ") is closed under multiplication because the product of any two real numbers is always a real number."
   ]
  },
  {
   "cell_type": "code",
   "execution_count": 24,
   "id": "684c3ccb-f3ae-4995-a2aa-17ac5a8cf474",
   "metadata": {},
   "outputs": [
    {
     "name": "stdout",
     "output_type": "stream",
     "text": [
      "Set {0, 1, 2, 3, 4} is closed under addition: False\n",
      "Set {0, 1, 2, 3, 4} is closed under multiplication: False\n"
     ]
    }
   ],
   "source": [
    "def is_closed_under_addition(numbers):\n",
    "    for i in numbers:\n",
    "        for j in numbers:\n",
    "            if i + j not in numbers:\n",
    "                return False\n",
    "    return True\n",
    "\n",
    "def is_closed_under_multiplication(numbers):\n",
    "    for i in numbers:\n",
    "        for j in numbers:\n",
    "            if i * j not in numbers:\n",
    "                return False\n",
    "    return True\n",
    "\n",
    "# Example usage:\n",
    "num_set = {0, 1, 2, 3, 4}\n",
    "\n",
    "print(f\"Set {num_set} is closed under addition: {is_closed_under_addition(num_set)}\")\n",
    "print(f\"Set {num_set} is closed under multiplication: {is_closed_under_multiplication(num_set)}\")\n"
   ]
  },
  {
   "cell_type": "markdown",
   "id": "b111adec-b49a-4475-b9c7-9c7ee9478823",
   "metadata": {},
   "source": [
    "## [College Algebra Context](./README.md)"
   ]
  }
 ],
 "metadata": {
  "kernelspec": {
   "display_name": "Python 3 (ipykernel)",
   "language": "python",
   "name": "python3"
  },
  "language_info": {
   "codemirror_mode": {
    "name": "ipython",
    "version": 3
   },
   "file_extension": ".py",
   "mimetype": "text/x-python",
   "name": "python",
   "nbconvert_exporter": "python",
   "pygments_lexer": "ipython3",
   "version": "3.12.2"
  }
 },
 "nbformat": 4,
 "nbformat_minor": 5
}
