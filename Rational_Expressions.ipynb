{
  "metadata": {
    "kernelspec": {
      "name": "python",
      "display_name": "Python (Pyodide)",
      "language": "python"
    },
    "language_info": {
      "codemirror_mode": {
        "name": "python",
        "version": 3
      },
      "file_extension": ".py",
      "mimetype": "text/x-python",
      "name": "python",
      "nbconvert_exporter": "python",
      "pygments_lexer": "ipython3",
      "version": "3.8"
    }
  },
  "nbformat_minor": 5,
  "nbformat": 4,
  "cells": [
    {
      "id": "395893b8-1df0-486f-b0eb-4386642c7fb0",
      "cell_type": "markdown",
      "source": "# Working with Rational Expressions in Python\n\nRational expressions are fractions where the numerator and/or denominator are polynomials. Operations on these expressions—such as simplification, addition, subtraction, multiplication, and division—are common in algebra.\n\nIn this tutorial, we will use [SymPy](https://www.sympy.org/), a Python library for symbolic mathematics, to handle rational expressions.\n\n---",
      "metadata": {}
    },
    {
      "id": "1e44cf69-a4cb-41ac-8855-8a3e11cb08d9",
      "cell_type": "markdown",
      "source": "## Prerequisites\n\nInstall SymPy if you haven’t already:\n\n```bash\npip install sympy\n```\n\n---",
      "metadata": {}
    },
    {
      "id": "45e05daa-9fce-4c8e-b29d-aa61f4a08e51",
      "cell_type": "markdown",
      "source": "## 1. Introduction to Rational Expressions\n\nA **rational expression** has the form:\n\n$\\frac{P(x)}{Q(x)}$\n\nwhere $P(x)$ and $Q(x)$ are polynomials and $Q(x) \\neq 0$.\n\n---",
      "metadata": {}
    },
    {
      "id": "5ec6e579-f26b-487f-a408-c2e4d49334ef",
      "cell_type": "markdown",
      "source": "## 2. Creating Rational Expressions in Python",
      "metadata": {}
    },
    {
      "id": "2ecee415-736b-434e-8bff-efa565e328fd",
      "cell_type": "code",
      "source": "import sympy as sp\n\nx = sp.symbols('x')\nexpr = (x**2 + 2*x + 1) / (x**2 - 1)\nprint(expr)\n# Output: (x**2 + 2*x + 1)/(x**2 - 1)",
      "metadata": {
        "trusted": true
      },
      "outputs": [
        {
          "name": "stdout",
          "output_type": "stream",
          "text": "(x**2 + 2*x + 1)/(x**2 - 1)\n"
        }
      ],
      "execution_count": 2
    },
    {
      "id": "e22c409d-2e9e-4b51-ba79-d24b6b803953",
      "cell_type": "markdown",
      "source": "## 3. Simplifying Rational Expressions\n\nSymPy’s `cancel()` and `simplify()` functions can reduce rational expressions by canceling common factors.\n\n**Example:**\n\n$\\frac{x^2 + 2x + 1}{x^2 - 1} = \\frac{(x+1)^2}{(x-1)(x+1)} = \\frac{x+1}{x-1}$",
      "metadata": {}
    },
    {
      "id": "3baf9ebc-066b-4150-a4ac-39e7751a3ee5",
      "cell_type": "code",
      "source": "simplified = sp.cancel(expr)\nprint(simplified)\n# Output: (x + 1)/(x - 1)",
      "metadata": {
        "trusted": true
      },
      "outputs": [
        {
          "name": "stdout",
          "output_type": "stream",
          "text": "(x + 1)/(x - 1)\n"
        }
      ],
      "execution_count": 3
    },
    {
      "id": "8df1a081-8d5b-40fb-91f1-304f303a2e4d",
      "cell_type": "markdown",
      "source": "## 4. Arithmetic Operations\n\n### A. Addition and Subtraction\n\nTo add or subtract rational expressions, find a common denominator.\n\n**Example:**\n\n$\\frac{1}{x} + \\frac{2}{x+1}$",
      "metadata": {}
    },
    {
      "id": "bd4bea6b-69b3-4b07-a805-c255327a83fe",
      "cell_type": "code",
      "source": "expr1 = 1 / x\nexpr2 = 2 / (x + 1)\nsum_expr = expr1 + expr2\nsum_simplified = sp.simplify(sum_expr)\nprint(sum_simplified)\n# Output: (x + 1 + 2*x)/(x*(x + 1)) or (3*x + 1)/(x*(x + 1))",
      "metadata": {
        "trusted": true
      },
      "outputs": [
        {
          "name": "stdout",
          "output_type": "stream",
          "text": "(3*x + 1)/(x*(x + 1))\n"
        }
      ],
      "execution_count": 4
    },
    {
      "id": "f59acc04-0c19-48fa-9ffe-a47320c3789c",
      "cell_type": "markdown",
      "source": "**Subtraction:**\n\n$\\frac{1}{x} - \\frac{2}{x+1}$",
      "metadata": {}
    },
    {
      "id": "a812c80c-9ef0-429a-ab7d-1964266e1d3d",
      "cell_type": "code",
      "source": "diff_expr = expr1 - expr2\ndiff_simplified = sp.simplify(diff_expr)\nprint(diff_simplified)\n# Output: (x + 1 - 2*x)/(x*(x + 1)) or (1 - x)/(x*(x + 1))",
      "metadata": {
        "trusted": true
      },
      "outputs": [
        {
          "name": "stdout",
          "output_type": "stream",
          "text": "(1 - x)/(x*(x + 1))\n"
        }
      ],
      "execution_count": 5
    },
    {
      "id": "fe4f4a98-9eb3-4065-92cc-4668cd419250",
      "cell_type": "markdown",
      "source": "### B. Multiplication\n\nMultiply the numerators and denominators, then simplify.\n\n**Example:**\n\n$\\frac{1}{x} \\times \\frac{2}{x+1} = \\frac{2}{x(x+1)}$",
      "metadata": {}
    },
    {
      "id": "3e2a137e-c30f-45f2-ad2b-770a3cf23375",
      "cell_type": "code",
      "source": "product = expr1 * expr2\nproduct_simplified = sp.simplify(product)\nprint(product_simplified)\n# Output: 2/(x*(x + 1))",
      "metadata": {
        "trusted": true
      },
      "outputs": [
        {
          "name": "stdout",
          "output_type": "stream",
          "text": "2/(x*(x + 1))\n"
        }
      ],
      "execution_count": 7
    },
    {
      "id": "5f186f61-7def-4800-8a66-ecbfd1a7e3d3",
      "cell_type": "markdown",
      "source": "### C. Division\n\nTo divide by a rational expression, multiply by its reciprocal.\n\n**Example:**\n\n$\\frac{1}{x} \\div \\frac{2}{x+1} = \\frac{1}{x} \\times \\frac{x+1}{2} = \\frac{x+1}{2x}$",
      "metadata": {}
    },
    {
      "id": "d6d3fcd1-002d-4f43-9ea3-c4dd23de472c",
      "cell_type": "code",
      "source": "quotient = expr1 / expr2\nquotient_simplified = sp.simplify(quotient)\nprint(quotient_simplified)\n# Output: (x + 1)/(2*x)",
      "metadata": {
        "trusted": true
      },
      "outputs": [
        {
          "name": "stdout",
          "output_type": "stream",
          "text": "(x + 1)/(2*x)\n"
        }
      ],
      "execution_count": 8
    },
    {
      "id": "4e6e73d8-8026-4e7d-bc3e-84d31024d33a",
      "cell_type": "markdown",
      "source": "## 5. Practice: Try Your Own!\n\nReplace the expressions below to experiment:",
      "metadata": {}
    },
    {
      "id": "5e9b3dc0-845c-4de6-9bad-c78908c3d3b4",
      "cell_type": "code",
      "source": "# Example: Simplify (x^2 - 4)/(x^2 - x - 2)\nexpr = (x**2 - 4) / (x**2 - x - 2)\nsimplified = sp.cancel(expr)\nprint(simplified)\n# Output: (x + 2)/(x - 2)",
      "metadata": {
        "trusted": true
      },
      "outputs": [
        {
          "name": "stdout",
          "output_type": "stream",
          "text": "(x + 2)/(x + 1)\n"
        }
      ],
      "execution_count": 9
    },
    {
      "id": "0ae4ec51-7c70-4fb6-a5f4-9fcaf1916b79",
      "cell_type": "markdown",
      "source": "---\n\n## 6. Summary Table\n\n| Operation      | Python Example                           | Output Example          |\n|----------------|------------------------------------------|------------------------|\n| Simplify       | `sp.cancel((x**2-1)/(x**2-x))`           | `(x + 1)/(x)`          |\n| Addition       | `sp.simplify(1/x + 1/(x+1))`             | `(2*x + 1)/(x*(x+1))`  |\n| Subtraction    | `sp.simplify(1/x - 1/(x+1))`             | `(1)/(x*(x+1))`        |\n| Multiplication | `sp.simplify((1/x)*(2/(x+1)))`           | `2/(x*(x+1))`          |\n| Division       | `sp.simplify((1/x)/(2/(x+1)))`           | `(x+1)/(2*x)`          |\n\n---",
      "metadata": {}
    },
    {
      "id": "cbac1aa5-f994-4ddc-9a47-2ecbbd97b7dd",
      "cell_type": "markdown",
      "source": "## 7. Further Reading\n\n- [SymPy Rational Expressions](https://docs.sympy.org/latest/tutorial/simplification.html)\n- [SymPy Simplification Functions](https://docs.sympy.org/latest/tutorial/simplification.html#simplification-functions)",
      "metadata": {}
    },
    {
      "id": "952db6c2-e41a-4c3f-9792-ecf1399b34af",
      "cell_type": "markdown",
      "source": "# [College Algebra Context](./README.md)",
      "metadata": {}
    }
  ]
}