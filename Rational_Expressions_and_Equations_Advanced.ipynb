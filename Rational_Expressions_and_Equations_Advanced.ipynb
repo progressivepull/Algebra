{
  "metadata": {
    "kernelspec": {
      "name": "python",
      "display_name": "Python (Pyodide)",
      "language": "python"
    },
    "language_info": {
      "codemirror_mode": {
        "name": "python",
        "version": 3
      },
      "file_extension": ".py",
      "mimetype": "text/x-python",
      "name": "python",
      "nbconvert_exporter": "python",
      "pygments_lexer": "ipython3",
      "version": "3.8"
    }
  },
  "nbformat_minor": 5,
  "nbformat": 4,
  "cells": [
    {
      "id": "05738c2d-8acb-4f93-9d5f-29639c8d3393",
      "cell_type": "markdown",
      "source": "# Algebra with Python: Rational Expressions and Equations (Advanced)\n## Introduction\nRational expressions involve fractions where the numerator and denominator are polynomials. Solving rational equations requires finding common denominators, simplifying, and checking for extraneous solutions.\n\n## What You'll Learn:\n* Simplifying rational expressions\n* Solving rational equations\n* Applications of rational equations",
      "metadata": {}
    },
    {
      "id": "1a6a15ae-78f3-4894-8f93-11e2edea0d9d",
      "cell_type": "markdown",
      "source": "## Simplifying Rational Expressions\n\nA rational expression is of the form:\n\n$\n\\frac{P(x)}{Q(x)}\n$\n\nwhere $ P(x) $ and $ Q(x) $ are polynomials.",
      "metadata": {}
    },
    {
      "id": "844dec15-8a2a-4aa0-81c5-790c55fed050",
      "cell_type": "markdown",
      "source": "### Example: Simplify $ \\frac{x^2 - 4}{x^2 - 2x} $",
      "metadata": {}
    },
    {
      "id": "fa159b64-211a-4a1a-83df-b43538d754ee",
      "cell_type": "code",
      "source": "from sympy import symbols, simplify\n\nx = symbols('x')\nexpr = (x**2 - 4) / (x**2 - 2*x)\n\nsimplified_expr = simplify(expr)\nprint(simplified_expr)  # Output: (x + 2) / (x - 2)",
      "metadata": {
        "trusted": true
      },
      "outputs": [
        {
          "name": "stdout",
          "output_type": "stream",
          "text": "(x + 2)/x\n"
        }
      ],
      "execution_count": 1
    },
    {
      "id": "ba854cb9-4110-403f-96d2-7d1e6a1250e3",
      "cell_type": "markdown",
      "source": "# Solving Rational Equations\nTo solve rational equations, clear the denominators and solve for 𝑥.\n\n$\n\\frac{x + 1}{x - 2} = \\frac{x - 3}{x + 2}\n$",
      "metadata": {}
    },
    {
      "id": "883bac9e-d9b8-4500-bbe9-df13e4379bc9",
      "cell_type": "code",
      "source": "from sympy import Eq, solve\n\nexpr1 = (x + 1) / (x - 2)\nexpr2 = (x - 3) / (x + 2)\n\nequation = Eq(expr1, expr2)\nsolutions = solve(equation, x)\n\nprint(solutions)  # Output: Solutions for x\n",
      "metadata": {
        "trusted": true
      },
      "outputs": [
        {
          "name": "stdout",
          "output_type": "stream",
          "text": "[1/2]\n"
        }
      ],
      "execution_count": 2
    },
    {
      "id": "5997a263-497e-4f04-b12e-bf7068356e76",
      "cell_type": "markdown",
      "source": "## Extraneous Solutions\nAlways check if solutions make any denominator zero, as these are not valid.",
      "metadata": {}
    },
    {
      "id": "45085628-9bf6-4b8d-bdd9-17ede9f5250d",
      "cell_type": "markdown",
      "source": "## Example: Work Rate Problem\nTwo people complete a task at different rates. If A finishes in 4 hours and B in 6 hours, how long does it take together?",
      "metadata": {}
    },
    {
      "id": "1842bd14-ccae-4a1d-97db-1e6f1fed9de2",
      "cell_type": "code",
      "source": "from sympy import Rational\n\nt = symbols('t')\nwork_rate_a = Rational(1, 4)\nwork_rate_b = Rational(1, 6)\n\nequation = Eq(work_rate_a*t + work_rate_b*t, 1)\nsolution = solve(equation, t)\n\nprint(solution)  # Output: [2.4] → 2.4 hours\n",
      "metadata": {
        "trusted": true
      },
      "outputs": [
        {
          "name": "stdout",
          "output_type": "stream",
          "text": "[12/5]\n"
        }
      ],
      "execution_count": 3
    },
    {
      "id": "27de6b7d-50f3-4eff-b18f-4976f644d575",
      "cell_type": "markdown",
      "source": "## Summary\n* Rational expressions involve polynomial fractions.\n* Solving rational equations requires clearing denominators.\n* Applications include work rates and proportions.",
      "metadata": {}
    },
    {
      "id": "da9e164b-8e87-42ee-ad34-ed32b52e0f9c",
      "cell_type": "markdown",
      "source": "# [College Algebra Context](./README.md)",
      "metadata": {}
    }
  ]
}