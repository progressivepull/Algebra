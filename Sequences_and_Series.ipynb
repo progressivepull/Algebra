{
  "metadata": {
    "kernelspec": {
      "name": "python",
      "display_name": "Python (Pyodide)",
      "language": "python"
    },
    "language_info": {
      "codemirror_mode": {
        "name": "python",
        "version": 3
      },
      "file_extension": ".py",
      "mimetype": "text/x-python",
      "name": "python",
      "nbconvert_exporter": "python",
      "pygments_lexer": "ipython3",
      "version": "3.8"
    }
  },
  "nbformat_minor": 5,
  "nbformat": 4,
  "cells": [
    {
      "id": "0ccca182-58cb-49d3-a623-088ceff2660c",
      "cell_type": "markdown",
      "source": "# Advanced Algebra with Python: Sequences and Series\n\n**Sequences** and **series** are foundational concepts in algebra and calculus, describing ordered lists of numbers and the sums of their terms, respectively. This tutorial demonstrates how to analyze, generate, and sum arithmetic and geometric sequences and series using Python, with the help of the **SymPy** library.",
      "metadata": {}
    },
    {
      "id": "767b8c87-0ecd-4a6d-9b50-ff568428f2d4",
      "cell_type": "markdown",
      "source": "---\n\n## Prerequisites\n\nInstall SymPy if you haven’t already:\n\n```bash\npip install sympy\n```\n\n---",
      "metadata": {}
    },
    {
      "id": "0d892896-5043-4928-83fb-ae215690c366",
      "cell_type": "markdown",
      "source": "## 1. Arithmetic Sequences\n\nAn **arithmetic sequence** is a sequence where each term after the first is obtained by adding a constant difference \\(d\\) to the previous term.\n\n- General term (nth term):  \n  $ a_n = a_1 + (n-1)d $\n- Sum of first \\( n \\) terms:  \n  $ S_n = \\frac{n}{2}(2a_1 + (n-1)d) $\n\n**Example:** $ a_1 = 3, d = 5 $",
      "metadata": {}
    },
    {
      "id": "9b04853e-fb48-483e-bb21-da6c0c569e2e",
      "cell_type": "code",
      "source": "import sympy as sp\n\nn = sp.symbols('n', integer=True)\na1, d = 3, 5\n\n# nth term\nan = a1 + (n - 1)*d\nprint(\"n-th term formula:\", an)\n\n# 10th term\ntenth_term = an.subs(n, 10)\nprint(\"10th term:\", tenth_term)\n\n# Sum of first n terms\nSn = n/2 * (2*a1 + (n-1)*d)\nprint(\"Sum of first n terms:\", Sn)\n\n# Sum of first 10 terms\nsum_10 = Sn.subs(n, 10)\nprint(\"Sum of first 10 terms:\", sum_10)",
      "metadata": {
        "trusted": true
      },
      "outputs": [
        {
          "name": "stdout",
          "output_type": "stream",
          "text": "n-th term formula: 5*n - 2\n10th term: 48\nSum of first n terms: n*(5*n + 1)/2\nSum of first 10 terms: 255\n"
        }
      ],
      "execution_count": 1
    },
    {
      "id": "596bcd93-c334-4033-a35e-028bf8252b0e",
      "cell_type": "markdown",
      "source": "## 2. Geometric Sequences\n\nA **geometric sequence** is a sequence where each term is found by multiplying the previous term by a constant ratio $r$.\n\n- General term (nth term):  \n  $ a_n = a_1 \\cdot r^{n-1} $\n- Sum of first $ n $ terms (if $ r \\neq 1 $):  \n  $4 S_n = a_1 \\frac{1 - r^n}{1 - r} $\n\n**Example:** $ a_1 = 2, r = 3 $",
      "metadata": {}
    },
    {
      "id": "a9e73526-6f4b-41eb-86a0-ce34e395c5ba",
      "cell_type": "code",
      "source": "a1, r = 2, 3\n\n# nth term\nan = a1 * r**(n - 1)\nprint(\"n-th term formula:\", an)\n\n# 5th term\nfifth_term = an.subs(n, 5)\nprint(\"5th term:\", fifth_term)\n\n# Sum of first n terms\nSn = a1 * (1 - r**n) / (1 - r)\nprint(\"Sum of first n terms:\", Sn)\n\n# Sum of first 5 terms\nsum_5 = Sn.subs(n, 5)\nprint(\"Sum of first 5 terms:\", sum_5)",
      "metadata": {
        "trusted": true
      },
      "outputs": [
        {
          "name": "stdout",
          "output_type": "stream",
          "text": "n-th term formula: 2*3**(n - 1)\n5th term: 162\nSum of first n terms: 3**n - 1\nSum of first 5 terms: 242\n"
        }
      ],
      "execution_count": 2
    },
    {
      "id": "c15a7543-604f-4983-b49a-6ded79b083c0",
      "cell_type": "markdown",
      "source": "## 3. Infinite Geometric Series\n\nIf $ |r| < 1 $, the sum of an infinite geometric series is:\n\n$\nS_\\infty = \\frac{a_1}{1 - r}\n$\n\n**Example:** $ a_1 = 4, r = 0.5 $",
      "metadata": {}
    },
    {
      "id": "89e37f9b-d9f7-40c4-b9fe-d6f60a08d7bc",
      "cell_type": "code",
      "source": "a1, r = 4, 0.5\n\nif abs(r) < 1:\n    S_inf = a1 / (1 - r)\n    print(\"Sum to infinity:\", S_inf)\nelse:\n    print(\"Infinite sum does not converge for |r| >= 1.\")",
      "metadata": {
        "trusted": true
      },
      "outputs": [
        {
          "name": "stdout",
          "output_type": "stream",
          "text": "Sum to infinity: 8.0\n"
        }
      ],
      "execution_count": 3
    },
    {
      "id": "f29447e8-80a0-42f6-b938-b7bbb170ea8c",
      "cell_type": "markdown",
      "source": "## 4. Working with Sequences in Python\n\nYou can generate and analyze sequence terms using list comprehensions.\n\n**Arithmetic sequence example:**",
      "metadata": {}
    },
    {
      "id": "dae144ef-99ba-4e9d-a73a-0c4da5bbc1fc",
      "cell_type": "code",
      "source": "a1, d = 1, 2\nterms = [a1 + (i-1)*d for i in range(1, 11)]\nprint(\"First 10 terms (arithmetic):\", terms)",
      "metadata": {
        "trusted": true
      },
      "outputs": [
        {
          "name": "stdout",
          "output_type": "stream",
          "text": "First 10 terms (arithmetic): [1, 3, 5, 7, 9, 11, 13, 15, 17, 19]\n"
        }
      ],
      "execution_count": 4
    },
    {
      "id": "c45dbed4-349d-4234-803f-a79a247a0e09",
      "cell_type": "markdown",
      "source": "**Geometric sequence example:**",
      "metadata": {}
    },
    {
      "id": "13232287-eb93-4c76-9323-38f8308fcea9",
      "cell_type": "code",
      "source": "a1, r = 3, 2\nterms = [a1 * r**(i-1) for i in range(1, 11)]\nprint(\"First 10 terms (geometric):\", terms)",
      "metadata": {
        "trusted": true
      },
      "outputs": [
        {
          "name": "stdout",
          "output_type": "stream",
          "text": "First 10 terms (geometric): [3, 6, 12, 24, 48, 96, 192, 384, 768, 1536]\n"
        }
      ],
      "execution_count": 5
    },
    {
      "id": "661fc4f4-c67a-4ac1-a010-dda9939c7a5a",
      "cell_type": "markdown",
      "source": "## 5. Summation Notation with SymPy\n\nYou can use SymPy's `summation` for symbolic or numeric sums.\n\n**Sum of the first 20 terms of the arithmetic sequence $ a_n = 3 + (n-1) \\cdot 5 $:**",
      "metadata": {}
    },
    {
      "id": "1e7b1a50-c2cf-4e0a-b8fd-09f28a0e0f5a",
      "cell_type": "code",
      "source": "an = 3 + (n-1)*5\nsum_20 = sp.summation(an, (n, 1, 20))\nprint(\"Sum of first 20 terms:\", sum_20)",
      "metadata": {
        "trusted": true
      },
      "outputs": [
        {
          "name": "stdout",
          "output_type": "stream",
          "text": "Sum of first 20 terms: 1010\n"
        }
      ],
      "execution_count": 6
    },
    {
      "id": "bf6e0065-534b-4f48-a0a9-5dd6793badc5",
      "cell_type": "markdown",
      "source": "**Sum of first 8 terms of geometric sequence $ a_n = 2 \\cdot 3^{n-1} $:**",
      "metadata": {}
    },
    {
      "id": "c8855140-b7c8-4cbc-8a2a-4bcaebe2cbee",
      "cell_type": "code",
      "source": "an = 2 * 3**(n-1)\nsum_8 = sp.summation(an, (n, 1, 8))\nprint(\"Sum of first 8 terms:\", sum_8)",
      "metadata": {
        "trusted": true
      },
      "outputs": [
        {
          "name": "stdout",
          "output_type": "stream",
          "text": "Sum of first 8 terms: 6560\n"
        }
      ],
      "execution_count": 7
    },
    {
      "id": "664e1821-2da1-44b4-8db7-96eee04f0c6a",
      "cell_type": "markdown",
      "source": "## 6. Practice: Try Your Own Sequences\n\nChange $ a_1 $, $ d $, $ r $, and $ n $ to explore new sequences and sums.",
      "metadata": {}
    },
    {
      "id": "1cab61dd-d297-4a7b-8bbe-7e7b6f63c9b6",
      "cell_type": "code",
      "source": "# Arithmetic: a1 = 4, d = 7, find 12th term and sum of first 12 terms\na1, d = 4, 7\nan = a1 + (n-1)*d\nprint(\"12th term:\", an.subs(n, 12))\nSn = n/2 * (2*a1 + (n-1)*d)\nprint(\"Sum of first 12 terms:\", Sn.subs(n, 12))",
      "metadata": {
        "trusted": true
      },
      "outputs": [
        {
          "name": "stdout",
          "output_type": "stream",
          "text": "12th term: 81\nSum of first 12 terms: 510\n"
        }
      ],
      "execution_count": 8
    },
    {
      "id": "b288f33b-7e38-4811-9f0c-39feca2c93e3",
      "cell_type": "markdown",
      "source": "---\n\n## 7. Further Reading\n\n- [SymPy: Discrete Summation](https://docs.sympy.org/latest/modules/concrete.html)\n- [Khan Academy: Sequences and Series](https://www.khanacademy.org/math/algebra/sequences)\n- [Arithmetic and Geometric Progressions – Wikipedia](https://en.wikipedia.org/wiki/Progression_(arithmetic))\n\n---",
      "metadata": {}
    },
    {
      "id": "77f3b006-24c3-4acc-9421-369cba9ce443",
      "cell_type": "markdown",
      "source": "# [College Algebra Context](./README.md)",
      "metadata": {}
    }
  ]
}