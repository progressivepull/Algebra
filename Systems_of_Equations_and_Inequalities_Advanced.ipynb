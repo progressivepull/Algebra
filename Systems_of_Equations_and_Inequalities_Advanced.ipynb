{
  "metadata": {
    "kernelspec": {
      "name": "python",
      "display_name": "Python (Pyodide)",
      "language": "python"
    },
    "language_info": {
      "codemirror_mode": {
        "name": "python",
        "version": 3
      },
      "file_extension": ".py",
      "mimetype": "text/x-python",
      "name": "python",
      "nbconvert_exporter": "python",
      "pygments_lexer": "ipython3",
      "version": "3.8"
    }
  },
  "nbformat_minor": 5,
  "nbformat": 4,
  "cells": [
    {
      "id": "28006fda-962b-47e3-b7e4-09109c92b791",
      "cell_type": "markdown",
      "source": "# Solving Systems of Equations and Inequalities using Python\n\n## Introduction\nSystems of equations consist of multiple equations that share common variables. Solving them helps find the values of those variables that satisfy all the equations simultaneously. We use Python, particularly `numpy` and `sympy`, to solve these problems efficiently.\n\n## Solving Linear Systems of Equations\nWe use matrix operations or symbolic computation to solve systems of linear equations.\n\n### Example 1: Using `numpy.linalg.solve`\nFor the system:\n\n$\n\\begin{cases}\n2x + 3y = 8 \\\\\n4x - y = -2\n\\end{cases}\n$",
      "metadata": {}
    },
    {
      "id": "44943b57-2591-4e50-9b68-93008632e0f0",
      "cell_type": "markdown",
      "source": "We represent it in matrix form: **Ax = B**.",
      "metadata": {}
    },
    {
      "id": "b84708a8-777a-4a9e-9e7c-f25898dc9512",
      "cell_type": "code",
      "source": "import numpy as np\n\n# Define coefficients matrix (A)\nA = np.array([[2, 3], [4, -1]])\n\n# Define constants vector (B)\nB = np.array([8, -2])\n\n# Solve for x and y\nsolution = np.linalg.solve(A, B)\nprint(\"Solution:\", solution)",
      "metadata": {
        "trusted": true
      },
      "outputs": [
        {
          "name": "stdout",
          "output_type": "stream",
          "text": "Solution: [0.14285714 2.57142857]\n"
        }
      ],
      "execution_count": 1
    },
    {
      "id": "14bb524a-9ab8-48cd-9b00-af4ddad4917c",
      "cell_type": "markdown",
      "source": "# Example 2: Using **sympy.solve**\nThe symbolic approach helps when dealing with non-square systems or variables.",
      "metadata": {}
    },
    {
      "id": "b99eb754-a9b1-4394-a713-698b1e2823f7",
      "cell_type": "code",
      "source": "from sympy import symbols, Eq, solve\n\nx, y = symbols('x y')\n\n# Define equations\neq1 = Eq(2*x + 3*y, 8)\neq2 = Eq(4*x - y, -2)\n\n# Solve\nsolution = solve((eq1, eq2), (x, y))\nprint(\"Solution:\", solution)\n",
      "metadata": {
        "trusted": true
      },
      "outputs": [
        {
          "name": "stdout",
          "output_type": "stream",
          "text": "Solution: {x: 1/7, y: 18/7}\n"
        }
      ],
      "execution_count": 2
    },
    {
      "id": "856b4f22-01b8-422b-a474-9e509a44b0f9",
      "cell_type": "markdown",
      "source": "# Solving Non-Linear Systems\nFor nonlinear systems, symbolic computation is crucial.\n\n## Example 3: Solving a Nonlinear System\n\nConsider the following system:\n\n$\n\\begin{cases}\nx^2 + y = 7 \\\\\nx + y^2 = 5\n\\end{cases}\n$",
      "metadata": {}
    },
    {
      "id": "d0cb18c0-7f9d-4d7d-a350-df18ebdcf244",
      "cell_type": "code",
      "source": "from sympy import symbols, Eq, solve\n\nx, y = symbols('x y')\n\n# Define equations\neq1 = Eq(x**2 + y, 7)\neq2 = Eq(x + y**2, 5)\n\n# Solve\nsolution = solve((eq1, eq2), (x, y))\nprint(\"Solution:\", solution)\n",
      "metadata": {
        "trusted": true
      },
      "outputs": [
        {
          "name": "stdout",
          "output_type": "stream",
          "text": "Solution: [(5 - (-sqrt(20/3 + 158/(9*(10987/432 + sqrt(611535)*I/144)**(1/3)) + 2*(10987/432 + sqrt(611535)*I/144)**(1/3))/2 - sqrt(40/3 - 2*(10987/432 + sqrt(611535)*I/144)**(1/3) + 2/sqrt(20/3 + 158/(9*(10987/432 + sqrt(611535)*I/144)**(1/3)) + 2*(10987/432 + sqrt(611535)*I/144)**(1/3)) - 158/(9*(10987/432 + sqrt(611535)*I/144)**(1/3)))/2)**2, -sqrt(20/3 + 158/(9*(10987/432 + sqrt(611535)*I/144)**(1/3)) + 2*(10987/432 + sqrt(611535)*I/144)**(1/3))/2 - sqrt(40/3 - 2*(10987/432 + sqrt(611535)*I/144)**(1/3) + 2/sqrt(20/3 + 158/(9*(10987/432 + sqrt(611535)*I/144)**(1/3)) + 2*(10987/432 + sqrt(611535)*I/144)**(1/3)) - 158/(9*(10987/432 + sqrt(611535)*I/144)**(1/3)))/2), (5 - (sqrt(20/3 + 158/(9*(10987/432 + sqrt(611535)*I/144)**(1/3)) + 2*(10987/432 + sqrt(611535)*I/144)**(1/3))/2 - sqrt(40/3 - 2*(10987/432 + sqrt(611535)*I/144)**(1/3) - 2/sqrt(20/3 + 158/(9*(10987/432 + sqrt(611535)*I/144)**(1/3)) + 2*(10987/432 + sqrt(611535)*I/144)**(1/3)) - 158/(9*(10987/432 + sqrt(611535)*I/144)**(1/3)))/2)**2, sqrt(20/3 + 158/(9*(10987/432 + sqrt(611535)*I/144)**(1/3)) + 2*(10987/432 + sqrt(611535)*I/144)**(1/3))/2 - sqrt(40/3 - 2*(10987/432 + sqrt(611535)*I/144)**(1/3) - 2/sqrt(20/3 + 158/(9*(10987/432 + sqrt(611535)*I/144)**(1/3)) + 2*(10987/432 + sqrt(611535)*I/144)**(1/3)) - 158/(9*(10987/432 + sqrt(611535)*I/144)**(1/3)))/2), (5 - (sqrt(40/3 - 2*(10987/432 + sqrt(611535)*I/144)**(1/3) - 2/sqrt(20/3 + 158/(9*(10987/432 + sqrt(611535)*I/144)**(1/3)) + 2*(10987/432 + sqrt(611535)*I/144)**(1/3)) - 158/(9*(10987/432 + sqrt(611535)*I/144)**(1/3)))/2 + sqrt(20/3 + 158/(9*(10987/432 + sqrt(611535)*I/144)**(1/3)) + 2*(10987/432 + sqrt(611535)*I/144)**(1/3))/2)**2, sqrt(40/3 - 2*(10987/432 + sqrt(611535)*I/144)**(1/3) - 2/sqrt(20/3 + 158/(9*(10987/432 + sqrt(611535)*I/144)**(1/3)) + 2*(10987/432 + sqrt(611535)*I/144)**(1/3)) - 158/(9*(10987/432 + sqrt(611535)*I/144)**(1/3)))/2 + sqrt(20/3 + 158/(9*(10987/432 + sqrt(611535)*I/144)**(1/3)) + 2*(10987/432 + sqrt(611535)*I/144)**(1/3))/2), (5 - (sqrt(40/3 - 2*(10987/432 + sqrt(611535)*I/144)**(1/3) + 2/sqrt(20/3 + 158/(9*(10987/432 + sqrt(611535)*I/144)**(1/3)) + 2*(10987/432 + sqrt(611535)*I/144)**(1/3)) - 158/(9*(10987/432 + sqrt(611535)*I/144)**(1/3)))/2 - sqrt(20/3 + 158/(9*(10987/432 + sqrt(611535)*I/144)**(1/3)) + 2*(10987/432 + sqrt(611535)*I/144)**(1/3))/2)**2, sqrt(40/3 - 2*(10987/432 + sqrt(611535)*I/144)**(1/3) + 2/sqrt(20/3 + 158/(9*(10987/432 + sqrt(611535)*I/144)**(1/3)) + 2*(10987/432 + sqrt(611535)*I/144)**(1/3)) - 158/(9*(10987/432 + sqrt(611535)*I/144)**(1/3)))/2 - sqrt(20/3 + 158/(9*(10987/432 + sqrt(611535)*I/144)**(1/3)) + 2*(10987/432 + sqrt(611535)*I/144)**(1/3))/2)]\n"
        }
      ],
      "execution_count": 4
    },
    {
      "id": "9691a331-f53b-473f-adcd-ff95a52e934d",
      "cell_type": "markdown",
      "source": "# Solving Inequalities\nWe use sympy to solve inequalities.\n\n## Example 4: Solving an Inequality\nSolve $3𝑥−5>7$ .",
      "metadata": {}
    },
    {
      "id": "d6ac2342-53ec-4d9a-9a42-576ddc16f966",
      "cell_type": "code",
      "source": "from sympy import symbols, solve\n\nx = symbols('x')\n\n# Define inequality\ninequality = 3*x - 5 > 7\n\n# Solve\nsolution = solve(inequality, x)\nprint(\"Solution:\", solution)\n",
      "metadata": {
        "trusted": true
      },
      "outputs": [
        {
          "name": "stdout",
          "output_type": "stream",
          "text": "Solution: (4 < x) & (x < oo)\n"
        }
      ],
      "execution_count": 5
    },
    {
      "id": "be242332-a328-4f6b-835e-d85920fba7c3",
      "cell_type": "markdown",
      "source": "# [College Algebra Context](./README.md)",
      "metadata": {}
    }
  ]
}