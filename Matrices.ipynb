{
  "metadata": {
    "kernelspec": {
      "name": "python",
      "display_name": "Python (Pyodide)",
      "language": "python"
    },
    "language_info": {
      "codemirror_mode": {
        "name": "python",
        "version": 3
      },
      "file_extension": ".py",
      "mimetype": "text/x-python",
      "name": "python",
      "nbconvert_exporter": "python",
      "pygments_lexer": "ipython3",
      "version": "3.8"
    }
  },
  "nbformat_minor": 5,
  "nbformat": 4,
  "cells": [
    {
      "id": "070bc974-aa24-474b-9f7f-93ba1ba748a7",
      "cell_type": "markdown",
      "source": "# Advanced Algebra with Python: Working with Matrices\n\nMatrices are rectangular arrays of numbers that play a central role in linear algebra, with applications in linear transformations, solving systems of equations, computer graphics, data science, and more. Python, with libraries like **NumPy** and **SymPy**, makes it easy to manipulate matrices and explore their properties.",
      "metadata": {}
    },
    {
      "id": "07fd0f20-7411-4717-beeb-5986049ff79f",
      "cell_type": "markdown",
      "source": "---\n\n## Prerequisites\n\nInstall the required libraries:\n\n```bash\npip install numpy sympy\n```\n\n---",
      "metadata": {}
    },
    {
      "id": "93a05c63-d326-4f93-ab8b-164dd831d2c7",
      "cell_type": "markdown",
      "source": "## 1. Creating and Manipulating Matrices\n\n### Using NumPy",
      "metadata": {}
    },
    {
      "id": "f8fd7a16-2a3c-4fdf-9dba-cb281f16694f",
      "cell_type": "code",
      "source": "import numpy as np\n\n# Create a 2x2 matrix\nA = np.array([[1, 2], [3, 4]])\nprint(\"Matrix A:\\n\", A)\n\n# Matrix addition\nB = np.array([[5, 6], [7, 8]])\nprint(\"A + B:\\n\", A + B)\n\n# Matrix multiplication\nprint(\"A * B (element-wise):\\n\", A * B)\nprint(\"A dot B:\\n\", np.dot(A, B))  # or A @ B\n\n# Transpose\nprint(\"A transposed:\\n\", A.T)",
      "metadata": {
        "trusted": true
      },
      "outputs": [
        {
          "name": "stdout",
          "output_type": "stream",
          "text": "Matrix A:\n [[1 2]\n [3 4]]\nA + B:\n [[ 6  8]\n [10 12]]\nA * B (element-wise):\n [[ 5 12]\n [21 32]]\nA dot B:\n [[19 22]\n [43 50]]\nA transposed:\n [[1 3]\n [2 4]]\n"
        }
      ],
      "execution_count": 1
    },
    {
      "id": "8713cc2b-3f17-42ef-9518-e4c28690fc44",
      "cell_type": "markdown",
      "source": "### Using SymPy for Symbolic Matrices",
      "metadata": {}
    },
    {
      "id": "eb9b0747-d767-400a-93b1-61ff2366aa78",
      "cell_type": "code",
      "source": "import sympy as sp\n\n# Define symbolic variables\na, b, c, d = sp.symbols('a b c d')\nM = sp.Matrix([[a, b], [c, d]])\nprint(\"Symbolic Matrix M:\\n\", M)\n\n# Determinant\nprint(\"Determinant of M:\", M.det())\n\n# Inverse\nif M.det() != 0:\n    print(\"Inverse of M:\\n\", M.inv())",
      "metadata": {
        "trusted": true
      },
      "outputs": [
        {
          "name": "stdout",
          "output_type": "stream",
          "text": "Symbolic Matrix M:\n Matrix([[a, b], [c, d]])\nDeterminant of M: a*d - b*c\nInverse of M:\n Matrix([[d/(a*d - b*c), -b/(a*d - b*c)], [-c/(a*d - b*c), a/(a*d - b*c)]])\n"
        }
      ],
      "execution_count": 2
    },
    {
      "id": "dc3ea1f9-8be7-485d-8de6-31c005abeb6d",
      "cell_type": "markdown",
      "source": "## 2. Applications: Linear Transformations\n\nA matrix can represent a linear transformation in space.\n\n### Example: 2D Rotation Transformation",
      "metadata": {}
    },
    {
      "id": "bdddeb83-55c3-4199-9d17-f0415d6a65f0",
      "cell_type": "code",
      "source": "import numpy as np\n\ntheta = np.pi / 4  # 45 degrees\nrotation_matrix = np.array([\n    [np.cos(theta), -np.sin(theta)],\n    [np.sin(theta),  np.cos(theta)]\n])\nvector = np.array([1, 0])\n\n# Apply rotation\nrotated_vector = rotation_matrix @ vector\nprint(\"Rotated vector:\", rotated_vector)",
      "metadata": {
        "trusted": true
      },
      "outputs": [
        {
          "name": "stdout",
          "output_type": "stream",
          "text": "Rotated vector: [0.70710678 0.70710678]\n"
        }
      ],
      "execution_count": 3
    },
    {
      "id": "6be2528e-3626-45e7-abe9-a31fa1eb37c9",
      "cell_type": "markdown",
      "source": "## 3. Solving Systems of Linear Equations\n\nSuppose you have the system:\n$\n\\begin{cases}\n2x + 3y = 8 \\\\\nx - 4y = -2\n\\end{cases}\n$",
      "metadata": {}
    },
    {
      "id": "48da8e72-aa8f-4083-84b1-9a6f6da416d3",
      "cell_type": "markdown",
      "source": "### Using NumPy",
      "metadata": {}
    },
    {
      "id": "31619664-72e9-469b-ab23-944a016d75e6",
      "cell_type": "code",
      "source": "import numpy as np\n\nA = np.array([[2, 3], [1, -4]])\nb = np.array([8, -2])\n\n# Solve for [x, y]\nsolution = np.linalg.solve(A, b)\nprint(\"Solution [x, y]:\", solution)",
      "metadata": {
        "trusted": true
      },
      "outputs": [
        {
          "name": "stdout",
          "output_type": "stream",
          "text": "Solution [x, y]: [2.36363636 1.09090909]\n"
        }
      ],
      "execution_count": 4
    },
    {
      "id": "f735ecb3-3721-46cf-8609-e91fafdae76e",
      "cell_type": "markdown",
      "source": "### Using SymPy (Symbolic Solution)",
      "metadata": {}
    },
    {
      "id": "b9de98dd-b767-4816-b7e1-98d98227d242",
      "cell_type": "code",
      "source": "import sympy as sp\n\nx, y = sp.symbols('x y')\neq1 = sp.Eq(2*x + 3*y, 8)\neq2 = sp.Eq(x - 4*y, -2)\nsolution = sp.solve((eq1, eq2), (x, y))\nprint(\"Symbolic solution:\", solution)",
      "metadata": {
        "trusted": true
      },
      "outputs": [
        {
          "name": "stdout",
          "output_type": "stream",
          "text": "Symbolic solution: {x: 26/11, y: 12/11}\n"
        }
      ],
      "execution_count": 5
    },
    {
      "id": "848872ad-9172-4c80-ae6f-e3d6ac677f04",
      "cell_type": "markdown",
      "source": "## 4. Matrix Inverse and Determinant\n\n- The **determinant** indicates if a matrix is invertible (non-zero determinant means invertible).\n- The **inverse** is used to \"undo\" the linear transformation or solve equations $Ax = b$ via $x = A^{-1}b$.",
      "metadata": {}
    },
    {
      "id": "f444633d-529b-47ba-b3c9-c47213c3e10c",
      "cell_type": "code",
      "source": "import numpy as np\n\nA = np.array([[2, 3], [1, -4]])\ndet = np.linalg.det(A)\nprint(\"Determinant:\", det)\n\nif det != 0:\n    inv_A = np.linalg.inv(A)\n    print(\"Inverse of A:\\n\", inv_A)",
      "metadata": {
        "trusted": true
      },
      "outputs": [
        {
          "name": "stdout",
          "output_type": "stream",
          "text": "Determinant: -11.000000000000002\nInverse of A:\n [[ 0.36363636  0.27272727]\n [ 0.09090909 -0.18181818]]\n"
        }
      ],
      "execution_count": 6
    },
    {
      "id": "d244f555-4579-4a19-b545-f47a2ef76d4b",
      "cell_type": "markdown",
      "source": "## 5. Eigenvalues and Eigenvectors\n\nThese are fundamental in understanding linear transformations, especially for diagonalization and applications in physics and machine learning.",
      "metadata": {}
    },
    {
      "id": "ab9da03c-2e4a-484f-b805-6992c2e5267d",
      "cell_type": "code",
      "source": "import numpy as np\n\nA = np.array([[2, 0], [0, 3]])\neigenvalues, eigenvectors = np.linalg.eig(A)\nprint(\"Eigenvalues:\", eigenvalues)\nprint(\"Eigenvectors:\\n\", eigenvectors)",
      "metadata": {
        "trusted": true
      },
      "outputs": [
        {
          "name": "stdout",
          "output_type": "stream",
          "text": "Eigenvalues: [2. 3.]\nEigenvectors:\n [[1. 0.]\n [0. 1.]]\n"
        }
      ],
      "execution_count": 7
    },
    {
      "id": "55306535-6d83-4717-9a52-7f62ab9e326b",
      "cell_type": "markdown",
      "source": "---\n\n## 6. Practice: Try Your Own\n\nChange the matrices and systems above to practice different operations, or create higher-dimensional matrices.\n\n---",
      "metadata": {}
    },
    {
      "id": "78fb4d1b-9b8d-43d6-b358-18aa7134d0a7",
      "cell_type": "markdown",
      "source": "## 7. Further Reading\n\n- [NumPy Linear Algebra](https://numpy.org/doc/stable/reference/routines.linalg.html)\n- [SymPy Matrices](https://docs.sympy.org/latest/modules/matrices/matrices.html)\n- [Matrix (mathematics) - Wikipedia](https://en.wikipedia.org/wiki/Matrix_%28mathematics%29)\n- [Linear Algebra - Khan Academy](https://www.khanacademy.org/math/linear-algebra)",
      "metadata": {}
    },
    {
      "id": "3fc8e379-31e1-4c11-bc9f-bff88a1182eb",
      "cell_type": "markdown",
      "source": "# [College Algebra Context](./README.md)",
      "metadata": {}
    }
  ]
}