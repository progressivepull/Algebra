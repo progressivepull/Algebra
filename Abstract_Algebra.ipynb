{
  "metadata": {
    "kernelspec": {
      "name": "python",
      "display_name": "Python (Pyodide)",
      "language": "python"
    },
    "language_info": {
      "codemirror_mode": {
        "name": "python",
        "version": 3
      },
      "file_extension": ".py",
      "mimetype": "text/x-python",
      "name": "python",
      "nbconvert_exporter": "python",
      "pygments_lexer": "ipython3",
      "version": "3.8"
    }
  },
  "nbformat_minor": 5,
  "nbformat": 4,
  "cells": [
    {
      "id": "96cf758c-9fcb-4f85-9397-3a4400442f3f",
      "cell_type": "markdown",
      "source": "# Advanced Algebra with Python: Abstract Algebra Concepts\n\nAbstract algebra studies algebraic structures such as **groups**, **rings**, and **fields**. Python, with libraries like [SymPy](https://www.sympy.org/), can help you experiment with and understand these concepts. This tutorial introduces these structures and demonstrates basic computations and verifications.",
      "metadata": {}
    },
    {
      "id": "d81f2011-d5d4-40ae-922f-d5ae1fcd039d",
      "cell_type": "markdown",
      "source": "---\n\n## Prerequisites\n\nInstall SymPy:\n\n```bash\npip install sympy\n```\n\n---",
      "metadata": {}
    },
    {
      "id": "f3f36893-02c2-4163-95af-fab4c262c1d6",
      "cell_type": "markdown",
      "source": "## 1. Groups\n\nA **group** is a set with an operation (like addition or multiplication) that satisfies:\n\n- **Closure:** Performing the operation on two elements in the set yields another element in the set.\n- **Associativity:** The operation is associative.\n- **Identity Element:** There is an element that leaves others unchanged when used in the operation.\n- **Inverse Element:** Every element has an inverse in the set.\n\n### Example: Integers under Addition",
      "metadata": {}
    },
    {
      "id": "c7b8de7e-8727-401c-a90f-e156f725675a",
      "cell_type": "code",
      "source": "# Let's check group properties for integers under addition\nfrom sympy import *\n\n# Closure: sum of two integers is always an integer\na, b = symbols('a b', integer=True)\nclosure = a + b  # This is always an integer\n\n# Identity: 0 is the identity for addition\nidentity = 0\n\n# Inverse: -a is the inverse of a\ninverse_a = -a\n\n# Associativity holds for addition by definition\n\nprint(\"Closure example: a + b =\", closure)\nprint(\"Identity element:\", identity)\nprint(\"Inverse of a:\", inverse_a)",
      "metadata": {
        "trusted": true
      },
      "outputs": [
        {
          "name": "stdout",
          "output_type": "stream",
          "text": "Closure example: a + b = a + b\nIdentity element: 0\nInverse of a: -a\n"
        }
      ],
      "execution_count": 1
    },
    {
      "id": "92d51f80-7c11-4985-8a1b-2142dae61a8a",
      "cell_type": "markdown",
      "source": "## 2. Rings\n\nA **ring** is a set with two operations (commonly addition and multiplication) where:\n\n- The set is an **abelian group** under addition.\n- The set is a **monoid** under multiplication (associative, has identity).\n- Multiplication is distributive over addition.\n\n### Example: Integers $(\\mathbb{Z}$) as a Ring",
      "metadata": {}
    },
    {
      "id": "fed62b36-2868-4cfc-95ee-e25318cf631d",
      "cell_type": "code",
      "source": "# Integers are a ring with usual addition and multiplication\n# Let's verify distributivity\n\na, b, c = symbols('a b c', integer=True)\nleft = a * (b + c)\nright = a * b + a * c\n\nprint(\"Left (a*(b+c)) =\", left)\nprint(\"Right (a*b + a*c) =\", right)\nprint(\"Distributive property holds:\", simplify(left - right) == 0)",
      "metadata": {
        "trusted": true
      },
      "outputs": [
        {
          "name": "stdout",
          "output_type": "stream",
          "text": "Left (a*(b+c)) = a*(b + c)\nRight (a*b + a*c) = a*b + a*c\nDistributive property holds: True\n"
        }
      ],
      "execution_count": 2
    },
    {
      "id": "4acfc6c2-8342-4d84-91b0-dd1390f7f776",
      "cell_type": "markdown",
      "source": "## 3. Fields\n\nA **field** is a ring in which every nonzero element has a multiplicative inverse, and multiplication is commutative.\n\n### Example: Rational Numbers ($\\mathbb{Q}$)",
      "metadata": {}
    },
    {
      "id": "f9dc6adc-7822-4988-a4cf-46416e0f7f57",
      "cell_type": "code",
      "source": "# Let's show that every nonzero rational has a multiplicative inverse\n\nfrom sympy import Rational\n\nq = Rational(3, 4)  # 3/4\ninverse_q = 1 / q   # Should be 4/3\n\nprint(\"q:\", q)\nprint(\"Multiplicative inverse of q:\", inverse_q)\nprint(\"q * inverse_q:\", q * inverse_q)  # Should output 1",
      "metadata": {
        "trusted": true
      },
      "outputs": [
        {
          "name": "stdout",
          "output_type": "stream",
          "text": "q: 3/4\nMultiplicative inverse of q: 4/3\nq * inverse_q: 1\n"
        }
      ],
      "execution_count": 3
    },
    {
      "id": "5c60e30f-ceba-4e71-8824-0cb0cf24811a",
      "cell_type": "markdown",
      "source": "## 4. Finite (Modular) Groups and Rings\n\nYou can work with modular arithmetic using SymPy's `Mod` and custom functions.\n\n### Example: Additive group of integers modulo 5 ($\\mathbb{Z}_5$)",
      "metadata": {}
    },
    {
      "id": "5c71f1e6-4c06-4d7d-aa3d-cd4ef62a4187",
      "cell_type": "code",
      "source": "n = 5\nelements = list(range(n))\noperation = lambda a, b: (a + b) % n\n\n# Example table of addition mod 5\nprint(\"Addition table mod 5:\")\nfor a in elements:\n    row = []\n    for b in elements:\n        row.append(operation(a, b))\n    print(row)",
      "metadata": {
        "trusted": true
      },
      "outputs": [
        {
          "name": "stdout",
          "output_type": "stream",
          "text": "Addition table mod 5:\n[0, 1, 2, 3, 4]\n[1, 2, 3, 4, 0]\n[2, 3, 4, 0, 1]\n[3, 4, 0, 1, 2]\n[4, 0, 1, 2, 3]\n"
        }
      ],
      "execution_count": 4
    },
    {
      "id": "844a7714-21b4-4d19-85e3-71e547f4f6d4",
      "cell_type": "markdown",
      "source": "### Example: Multiplicative group modulo 7 ($\\mathbb{Z}_7^*$)",
      "metadata": {}
    },
    {
      "id": "9cbf5177-8c53-49b0-aa2e-ed220c8ca90f",
      "cell_type": "code",
      "source": "n = 7\nelements = [x for x in range(1, n)]  # 1 to 6\noperation = lambda a, b: (a * b) % n\n\n# Let's show inverses\nprint(\"Multiplicative inverses mod 7:\")\nfor a in elements:\n    for b in elements:\n        if operation(a, b) == 1:\n            print(f\"{a} * {b} ≡ 1 mod 7\")\n            break",
      "metadata": {
        "trusted": true
      },
      "outputs": [
        {
          "name": "stdout",
          "output_type": "stream",
          "text": "Multiplicative inverses mod 7:\n1 * 1 ≡ 1 mod 7\n2 * 4 ≡ 1 mod 7\n3 * 5 ≡ 1 mod 7\n4 * 2 ≡ 1 mod 7\n5 * 3 ≡ 1 mod 7\n6 * 6 ≡ 1 mod 7\n"
        }
      ],
      "execution_count": 5
    },
    {
      "id": "3865040f-1418-4bb5-8d67-0c8e1b5de039",
      "cell_type": "markdown",
      "source": "## 5. Symbolic Group Example: Permutations (SymPy's `Permutations`)\n\nPermutations of a set form a group under composition.",
      "metadata": {}
    },
    {
      "id": "ab63c7c3-b4a9-48f0-85fa-9d4277b72d8c",
      "cell_type": "code",
      "source": "from sympy.combinatorics import Permutation, PermutationGroup\n\n# Two permutations of (0, 1, 2)\np1 = Permutation([1, 2, 0])\np2 = Permutation([2, 0, 1])\n\n# Composition (apply p2 after p1)\np3 = p1 * p2\nprint(\"p1:\", p1)\nprint(\"p2:\", p2)\nprint(\"p1 * p2:\", p3)\n\n# Group generated by p1 and p2\nG = PermutationGroup([p1, p2])\nprint(\"Order of the group:\", G.order())",
      "metadata": {
        "trusted": true
      },
      "outputs": [
        {
          "name": "stdout",
          "output_type": "stream",
          "text": "p1: (0 1 2)\np2: (0 2 1)\np1 * p2: (2)\nOrder of the group: 3\n"
        }
      ],
      "execution_count": 6
    },
    {
      "id": "9e1c9bfd-e934-430d-95c9-ca8359d72a1a",
      "cell_type": "markdown",
      "source": "---\n\n## 6. Practice: Explore Your Own Structures\n\nTry defining your own group, ring, or field using Python. For example, test closure or inverses for small finite sets, or construct multiplication/addition tables with list comprehensions.\n\n---",
      "metadata": {}
    },
    {
      "id": "1dabcbc7-45f3-47b4-9fac-dc2ec13a9612",
      "cell_type": "markdown",
      "source": "## 7. Further Reading\n\n- [SymPy: Combinatorics (Permutations, Groups)](https://docs.sympy.org/latest/modules/combinatorics/perm_groups.html)\n- [Abstract Algebra - Wikipedia](https://en.wikipedia.org/wiki/Abstract_algebra)\n- [Groups, Rings, Fields - Khan Academy](https://www.khanacademy.org/math/abstract-algebra)\n",
      "metadata": {}
    },
    {
      "id": "1cde8871-d2c9-41b1-bc48-a0ae5f6868f2",
      "cell_type": "markdown",
      "source": "# [College Algebra Context](./README.md)",
      "metadata": {}
    }
  ]
}